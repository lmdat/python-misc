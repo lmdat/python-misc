{
 "cells": [
  {
   "attachments": {},
   "cell_type": "markdown",
   "metadata": {},
   "source": [
    "<h1 align=\"center\">Coder Mê Tài Chính</h1>\n",
    "\n",
    "---\n",
    "<table width=\"100%\" style=\"border:0px solid black;\">\n",
    "    <tr style=\"font-size: 16pt\">\n",
    "        <td><strong>Evangelist</strong>: Lê Minh Đạt</td>\n",
    "        <td><b>Email</b>: <a href=\"mailto:sirminhdat@gmail.com\">sirminhdat@gmail.com</a></td>\n",
    "        <td><b>Zalo</b>: 0919 564 515</td>\n",
    "    </tr>\n",
    "</table>"
   ]
  },
  {
   "cell_type": "markdown",
   "metadata": {},
   "source": [
    "\n",
    "<h1 align=\"center\" style=\"color: #ffef96\"><b>Xây dựng mô hình ước tính tổn thất dự kiến (Expected Loss Model)<br> bằng Machine Learning (ML)</b></h1>"
   ]
  },
  {
   "cell_type": "markdown",
   "metadata": {},
   "source": [
    "## <span style=\"color: #79E0EE\">Mục tiêu cần đạt được:</span>\n",
    "- Sử dụng ML để xây dựng mô hình dự đoán xác suất vỡ nợ (Default) của các khoản vay trong danh mục.\n",
    "- Khi đã dự tính được xác xuất vỡ nợ, áp dụng mô hình tổn thất dự kiến để tính tổn thất của danh mục."
   ]
  },
  {
   "cell_type": "markdown",
   "metadata": {},
   "source": [
    "## <span style=\"color: #79E0EE\">Công thức tính tổn thất dự kiến (EL):</span>\n",
    "\n",
    "$$\n",
    "  EL = PD \\times LGD \\times Loan\\_Amount\n",
    "$$\n",
    "\n",
    "- PD: Probability of Default – xác suất khách hàng không trả được nợ; &rarr; giá trị này phải predict\n",
    "- LGD: Loss Given Default – tỉ trọng tổn thất ước tính; \n",
    "- Loan_Amount: tổng dư nợ của khách hàng tại thời điểm khách hàng không trả được nợ; \n",
    "- Trong đó, LGD được tính:\n",
    "$$\n",
    "    LGD = \\frac{(Loan\\_Amount - Số\\_tiền\\_có\\_thể\\_thu\\_hồi)}{Loan\\_Amount}\n",
    "$$\n",
    "\n",
    "- Trong bài này, dữ liệu mà ta sử dụng không có feature nào thể hiện giá trị \"Số tiền có thể thu hồi\" &rarr; cho LGD = 1\n",
    "\n",
    "Tham khảo: https://vietnambiz.vn/mo-hinh-uoc-tinh-ton-that-du-kien-expected-loss-model-la-gi-20190830122300429.htm"
   ]
  },
  {
   "cell_type": "markdown",
   "metadata": {
    "tags": []
   },
   "source": [
    "## <span style=\"color: #79E0EE\">Nguồn dữ liệu gốc:</span>\n",
    "File CSV (Dung lượng khoản 1,77GB. Khi download về sẽ là file zip, sau khi unzip thì đổi đuôi file Loan_status_2007-2020Q3.gzip thành Loan_status_2007-2020Q3.csv):\n",
    "\n",
    "-- https://www.kaggle.com/code/faressayah/lending-club-loan-defaulters-prediction/input?select=Loan_status_2007-2020Q3.gzip\n",
    "\n",
    "File mô tả các features:\n",
    "\n",
    "-- https://www.kaggle.com/code/faressayah/lending-club-loan-defaulters-prediction/input?select=LCDataDictionary.xlsx"
   ]
  },
  {
   "cell_type": "markdown",
   "metadata": {},
   "source": [
    "### <span style=\"color: #79E0EE\">Dữ liệu sử dụng trong bài:</span>\n",
    "- Mình đã chọn ra 15 cột (feature) phù hợp, có liên quan đến bài trong số 151 cột từ file gốc để tạo lại file dữ liệu với định dạng file là .parquet để nén cho dung lượng nhỏ lại (khoản 29MB). Số lượng quan sát mình vẫn lấy tất cả là khoản 2,9 triệu dòng."
   ]
  },
  {
   "cell_type": "code",
   "execution_count": 16,
   "metadata": {},
   "outputs": [],
   "source": [
    "import pandas as pd\n",
    "import numpy as np\n",
    "\n",
    "import matplotlib.pyplot as plt\n",
    "import seaborn as sns\n",
    "\n",
    "import re\n",
    "\n",
    "%matplotlib inline\n",
    "# plt.style.use('ggplot')\n",
    "sns.set_style('darkgrid')"
   ]
  },
  {
   "cell_type": "code",
   "execution_count": 17,
   "metadata": {},
   "outputs": [
    {
     "data": {
      "text/html": [
       "<div>\n",
       "<style scoped>\n",
       "    .dataframe tbody tr th:only-of-type {\n",
       "        vertical-align: middle;\n",
       "    }\n",
       "\n",
       "    .dataframe tbody tr th {\n",
       "        vertical-align: top;\n",
       "    }\n",
       "\n",
       "    .dataframe thead th {\n",
       "        text-align: right;\n",
       "    }\n",
       "</style>\n",
       "<table border=\"1\" class=\"dataframe\">\n",
       "  <thead>\n",
       "    <tr style=\"text-align: right;\">\n",
       "      <th></th>\n",
       "      <th>loan_amnt</th>\n",
       "      <th>term</th>\n",
       "      <th>int_rate</th>\n",
       "      <th>grade</th>\n",
       "      <th>emp_length</th>\n",
       "      <th>home_ownership</th>\n",
       "      <th>annual_inc</th>\n",
       "      <th>issue_d</th>\n",
       "      <th>loan_status</th>\n",
       "      <th>purpose</th>\n",
       "      <th>dti</th>\n",
       "      <th>earliest_cr_line</th>\n",
       "      <th>application_type</th>\n",
       "      <th>chargeoff_within_12_mths</th>\n",
       "      <th>pub_rec_bankruptcies</th>\n",
       "    </tr>\n",
       "  </thead>\n",
       "  <tbody>\n",
       "    <tr>\n",
       "      <th>0</th>\n",
       "      <td>5000.0</td>\n",
       "      <td>36 months</td>\n",
       "      <td>10.65%</td>\n",
       "      <td>B</td>\n",
       "      <td>10+ years</td>\n",
       "      <td>RENT</td>\n",
       "      <td>24000.0</td>\n",
       "      <td>Dec-2011</td>\n",
       "      <td>Fully Paid</td>\n",
       "      <td>credit_card</td>\n",
       "      <td>27.65</td>\n",
       "      <td>Jan-1985</td>\n",
       "      <td>Individual</td>\n",
       "      <td>0.0</td>\n",
       "      <td>0.0</td>\n",
       "    </tr>\n",
       "    <tr>\n",
       "      <th>1</th>\n",
       "      <td>2500.0</td>\n",
       "      <td>60 months</td>\n",
       "      <td>15.27%</td>\n",
       "      <td>C</td>\n",
       "      <td>&lt; 1 year</td>\n",
       "      <td>RENT</td>\n",
       "      <td>30000.0</td>\n",
       "      <td>Dec-2011</td>\n",
       "      <td>Charged Off</td>\n",
       "      <td>car</td>\n",
       "      <td>1.00</td>\n",
       "      <td>Apr-1999</td>\n",
       "      <td>Individual</td>\n",
       "      <td>0.0</td>\n",
       "      <td>0.0</td>\n",
       "    </tr>\n",
       "    <tr>\n",
       "      <th>2</th>\n",
       "      <td>2400.0</td>\n",
       "      <td>36 months</td>\n",
       "      <td>15.96%</td>\n",
       "      <td>C</td>\n",
       "      <td>10+ years</td>\n",
       "      <td>RENT</td>\n",
       "      <td>12252.0</td>\n",
       "      <td>Dec-2011</td>\n",
       "      <td>Fully Paid</td>\n",
       "      <td>small_business</td>\n",
       "      <td>8.72</td>\n",
       "      <td>Nov-2001</td>\n",
       "      <td>Individual</td>\n",
       "      <td>0.0</td>\n",
       "      <td>0.0</td>\n",
       "    </tr>\n",
       "    <tr>\n",
       "      <th>3</th>\n",
       "      <td>10000.0</td>\n",
       "      <td>36 months</td>\n",
       "      <td>13.49%</td>\n",
       "      <td>C</td>\n",
       "      <td>10+ years</td>\n",
       "      <td>RENT</td>\n",
       "      <td>49200.0</td>\n",
       "      <td>Dec-2011</td>\n",
       "      <td>Fully Paid</td>\n",
       "      <td>other</td>\n",
       "      <td>20.00</td>\n",
       "      <td>Feb-1996</td>\n",
       "      <td>Individual</td>\n",
       "      <td>0.0</td>\n",
       "      <td>0.0</td>\n",
       "    </tr>\n",
       "    <tr>\n",
       "      <th>4</th>\n",
       "      <td>3000.0</td>\n",
       "      <td>60 months</td>\n",
       "      <td>12.69%</td>\n",
       "      <td>B</td>\n",
       "      <td>1 year</td>\n",
       "      <td>RENT</td>\n",
       "      <td>80000.0</td>\n",
       "      <td>Dec-2011</td>\n",
       "      <td>Fully Paid</td>\n",
       "      <td>other</td>\n",
       "      <td>17.94</td>\n",
       "      <td>Jan-1996</td>\n",
       "      <td>Individual</td>\n",
       "      <td>0.0</td>\n",
       "      <td>0.0</td>\n",
       "    </tr>\n",
       "  </tbody>\n",
       "</table>\n",
       "</div>"
      ],
      "text/plain": [
       "   loan_amnt        term int_rate grade emp_length home_ownership  annual_inc  \\\n",
       "0     5000.0   36 months   10.65%     B  10+ years           RENT     24000.0   \n",
       "1     2500.0   60 months   15.27%     C   < 1 year           RENT     30000.0   \n",
       "2     2400.0   36 months   15.96%     C  10+ years           RENT     12252.0   \n",
       "3    10000.0   36 months   13.49%     C  10+ years           RENT     49200.0   \n",
       "4     3000.0   60 months   12.69%     B     1 year           RENT     80000.0   \n",
       "\n",
       "    issue_d  loan_status         purpose    dti earliest_cr_line  \\\n",
       "0  Dec-2011   Fully Paid     credit_card  27.65         Jan-1985   \n",
       "1  Dec-2011  Charged Off             car   1.00         Apr-1999   \n",
       "2  Dec-2011   Fully Paid  small_business   8.72         Nov-2001   \n",
       "3  Dec-2011   Fully Paid           other  20.00         Feb-1996   \n",
       "4  Dec-2011   Fully Paid           other  17.94         Jan-1996   \n",
       "\n",
       "  application_type  chargeoff_within_12_mths  pub_rec_bankruptcies  \n",
       "0       Individual                       0.0                   0.0  \n",
       "1       Individual                       0.0                   0.0  \n",
       "2       Individual                       0.0                   0.0  \n",
       "3       Individual                       0.0                   0.0  \n",
       "4       Individual                       0.0                   0.0  "
      ]
     },
     "execution_count": 17,
     "metadata": {},
     "output_type": "execute_result"
    }
   ],
   "source": [
    "data_file = \"data/loan/loan_status_essential_15cols.parquet\"\n",
    "ori_df = pd.read_parquet(data_file)\n",
    "ori_df.head()"
   ]
  },
  {
   "cell_type": "code",
   "execution_count": 18,
   "metadata": {},
   "outputs": [
    {
     "data": {
      "text/plain": [
       "(2925493, 15)"
      ]
     },
     "execution_count": 18,
     "metadata": {},
     "output_type": "execute_result"
    }
   ],
   "source": [
    "ori_df.shape"
   ]
  },
  {
   "cell_type": "markdown",
   "metadata": {
    "tags": []
   },
   "source": [
    "## <span style=\"color: #79E0EE\">Mô tả các cột dữ liệu</span>\n",
    "\n",
    "<table border=\"0\" style=\"font-size: 18px\">\n",
    "  <thead>\n",
    "    <tr style=\"text-align: left;\">\n",
    "      <th>#</th>\n",
    "      <th>Tên cột</th>\n",
    "      <th>Diễn giải</th>\n",
    "    </tr>\n",
    "  </thead>\n",
    "  <tbody>\n",
    "    <tr>\n",
    "      <th>1</th>\n",
    "      <td>loan_amnt</td>\n",
    "      <td>Số dư nợ của người vay.</td>\n",
    "    </tr>\n",
    "    <tr>\n",
    "      <th>2</th>\n",
    "      <td>term</td>\n",
    "      <td>Kỳ hạn vay.</td>\n",
    "    </tr>\n",
    "    <tr>\n",
    "      <th>3</th>\n",
    "      <td>int_rate</td>\n",
    "      <td>Lãi suất của khoản vay</td>\n",
    "    </tr>    \n",
    "    <tr>\n",
    "      <th>4</th>\n",
    "      <td>grade</td>\n",
    "      <td>Xếp hạng tín dụng của khoản vay</td>\n",
    "    </tr>      \n",
    "    <tr>\n",
    "      <th>5</th>\n",
    "      <td>emp_length</td>\n",
    "      <td>Thời gian làm việc của người vay tính bằng năm trong khoản [0; 10]. 0: dưới 1 năm; 10: trên 10 năm.</td>\n",
    "    </tr>\n",
    "    <tr>\n",
    "      <th>6</th>\n",
    "      <td>home_ownership</td>\n",
    "      <td>Tình trạng sở hữu nhà: RENT, OWN, MORTGAGE, OTHER</td>\n",
    "    </tr>\n",
    "    <tr>\n",
    "      <th>7</th>\n",
    "      <td>annual_inc</td>\n",
    "      <td>Thu nhập hàng năm của người vay.</td>\n",
    "    </tr>    \n",
    "    <tr>\n",
    "      <th>8</th>\n",
    "      <td>issue_d</td>\n",
    "      <td>Tháng mà khoản vay được giải ngân</td>\n",
    "    </tr>\n",
    "    <tr>\n",
    "      <th>9</th>\n",
    "      <td>loan_status</td>\n",
    "      <td>Trạng thái hiện tại của khoản vay</td>\n",
    "    </tr>\n",
    "    <tr>\n",
    "      <th>10</th>\n",
    "      <td>purpose</td>\n",
    "      <td>Mục đích vay.</td>\n",
    "    </tr>       \n",
    "    <tr>\n",
    "      <th>11</th>\n",
    "      <td>dti</td>\n",
    "      <td>Debt to Income: Tỉ lệ khoản phải trả hàng tháng bao gồm tiền gốc và lãi trên thu nhập của người vay.</td>\n",
    "    </tr>\n",
    "    <tr>\n",
    "      <th>12</th>\n",
    "      <td>earliest_cr_line</td>\n",
    "      <td>The month the borrower's earliest reported credit line was opened</td>\n",
    "    </tr>    \n",
    "    <tr>\n",
    "      <th>13</th>\n",
    "      <td>application_type</td>\n",
    "      <td>Một cá nhân vay hay là đồng chung 2 người vay</td>\n",
    "    </tr>   \n",
    "    <tr>\n",
    "      <th>14</th>\n",
    "      <td>pub_rec_bankruptcies</td>\n",
    "      <td>Số vụ phá sản được ghi nhận công khai</td>\n",
    "    </tr>      \n",
    "    <tr>\n",
    "      <th>15</th>\n",
    "      <td>chargeoff_within_12_mths</td>\n",
    "      <td>Số lần charge-off trong vòng 12 tháng</td>\n",
    "    </tr>\n",
    "  </tbody>\n",
    "</table>"
   ]
  },
  {
   "cell_type": "code",
   "execution_count": 19,
   "metadata": {},
   "outputs": [],
   "source": [
    "use_cols = [\n",
    "    'loan_amnt', # Số dư nợ của người vay\n",
    "    'term', # Kỳ hạn vay\n",
    "    'int_rate', # Lãi suất của khoản vay\n",
    "    'grade', # Xếp hạng tín dụng của khoản vay\n",
    "    'emp_length', # Thời gian làm việc của người vay tính bằng năm trong khoản [0; 10]. 0: dưới 1 năm; 10: từ 10 năm trở lên\n",
    "    'home_ownership', # Tình trạng sở hữu nhà: RENT, OWN, MORTGAGE, OTHER\n",
    "    'annual_inc', # Thu nhập hàng năm của người vay\n",
    "    'issue_d', # Tháng mà khoản vay được giải ngân\n",
    "    'loan_status', # Trạng thái hiện tại của khoản vay\n",
    "    'purpose', # Mục đích vay\n",
    "    'dti', # Debt to Income: Tỉ lệ khoản phải trả hàng tháng bao gồm tiền gốc và lãi trên thu nhập của người vay\n",
    "    'earliest_cr_line', # The month the borrower's earliest reported credit line was opened\n",
    "    'application_type', # Một cá nhân vay hay là đồng chung 2 người vay\n",
    "    'pub_rec_bankruptcies', # Số vụ phá sản được ghi nhận công khai\n",
    "    'chargeoff_within_12_mths' # Số lần charge-off trong vòng 12 tháng\n",
    "]\n",
    "\n",
    "essential_df = ori_df.copy()"
   ]
  },
  {
   "cell_type": "markdown",
   "metadata": {
    "tags": []
   },
   "source": [
    "## <span style=\"color: #79E0EE\">Loại bỏ các dòng dữ liệu có giá trị Null</span>"
   ]
  },
  {
   "cell_type": "code",
   "execution_count": 20,
   "metadata": {},
   "outputs": [
    {
     "data": {
      "text/plain": [
       "loan_amnt                        1\n",
       "term                             1\n",
       "int_rate                         1\n",
       "grade                            1\n",
       "emp_length                  205221\n",
       "home_ownership                   1\n",
       "annual_inc                       5\n",
       "issue_d                          1\n",
       "loan_status                      1\n",
       "purpose                          1\n",
       "dti                           3109\n",
       "earliest_cr_line                30\n",
       "application_type                 1\n",
       "chargeoff_within_12_mths       146\n",
       "pub_rec_bankruptcies          1366\n",
       "dtype: int64"
      ]
     },
     "execution_count": 20,
     "metadata": {},
     "output_type": "execute_result"
    }
   ],
   "source": [
    "essential_df.isna().sum()"
   ]
  },
  {
   "cell_type": "code",
   "execution_count": 21,
   "metadata": {},
   "outputs": [
    {
     "data": {
      "text/plain": [
       "loan_amnt                   0\n",
       "term                        0\n",
       "int_rate                    0\n",
       "grade                       0\n",
       "emp_length                  0\n",
       "home_ownership              0\n",
       "annual_inc                  0\n",
       "issue_d                     0\n",
       "loan_status                 0\n",
       "purpose                     0\n",
       "dti                         0\n",
       "earliest_cr_line            0\n",
       "application_type            0\n",
       "chargeoff_within_12_mths    0\n",
       "pub_rec_bankruptcies        0\n",
       "dtype: int64"
      ]
     },
     "execution_count": 21,
     "metadata": {},
     "output_type": "execute_result"
    }
   ],
   "source": [
    "essential_df.dropna(inplace=True)\n",
    "essential_df.isna().sum()"
   ]
  },
  {
   "cell_type": "markdown",
   "metadata": {
    "tags": []
   },
   "source": [
    "## <span style=\"color: #79E0EE\">Set kiểu dữ liệu tương ứng là loại Numeric, Datetime hoặc Categorical</span>"
   ]
  },
  {
   "cell_type": "code",
   "execution_count": 74,
   "metadata": {},
   "outputs": [
    {
     "name": "stdout",
     "output_type": "stream",
     "text": [
      "<class 'pandas.core.frame.DataFrame'>\n",
      "Int64Index: 2718623 entries, 0 to 2925492\n",
      "Data columns (total 15 columns):\n",
      " #   Column                    Dtype  \n",
      "---  ------                    -----  \n",
      " 0   loan_amnt                 float64\n",
      " 1   term                      object \n",
      " 2   int_rate                  object \n",
      " 3   grade                     object \n",
      " 4   emp_length                object \n",
      " 5   home_ownership            object \n",
      " 6   annual_inc                float64\n",
      " 7   issue_d                   object \n",
      " 8   loan_status               object \n",
      " 9   purpose                   object \n",
      " 10  dti                       float64\n",
      " 11  earliest_cr_line          object \n",
      " 12  application_type          object \n",
      " 13  chargeoff_within_12_mths  float64\n",
      " 14  pub_rec_bankruptcies      float64\n",
      "dtypes: float64(5), object(10)\n",
      "memory usage: 331.9+ MB\n"
     ]
    }
   ],
   "source": [
    "essential_df.info()"
   ]
  },
  {
   "cell_type": "code",
   "execution_count": 22,
   "metadata": {},
   "outputs": [],
   "source": [
    "# Set index lại sau khi đã loại bỏ các dòng có giá trị null\n",
    "essential_df.reset_index(drop=True, inplace=True)"
   ]
  },
  {
   "cell_type": "code",
   "execution_count": 23,
   "metadata": {},
   "outputs": [],
   "source": [
    "dt_cols = ['issue_d', 'earliest_cr_line']\n",
    "\n",
    "#Convert datetime\n",
    "essential_df[dt_cols] = essential_df[dt_cols].apply(pd.to_datetime)"
   ]
  },
  {
   "cell_type": "code",
   "execution_count": 24,
   "metadata": {},
   "outputs": [
    {
     "name": "stdout",
     "output_type": "stream",
     "text": [
      "<class 'pandas.core.frame.DataFrame'>\n",
      "RangeIndex: 2718623 entries, 0 to 2718622\n",
      "Data columns (total 15 columns):\n",
      " #   Column                    Dtype         \n",
      "---  ------                    -----         \n",
      " 0   loan_amnt                 float64       \n",
      " 1   term                      object        \n",
      " 2   int_rate                  object        \n",
      " 3   grade                     object        \n",
      " 4   emp_length                object        \n",
      " 5   home_ownership            object        \n",
      " 6   annual_inc                float64       \n",
      " 7   issue_d                   datetime64[ns]\n",
      " 8   loan_status               object        \n",
      " 9   purpose                   object        \n",
      " 10  dti                       float64       \n",
      " 11  earliest_cr_line          datetime64[ns]\n",
      " 12  application_type          object        \n",
      " 13  chargeoff_within_12_mths  float64       \n",
      " 14  pub_rec_bankruptcies      float64       \n",
      "dtypes: datetime64[ns](2), float64(5), object(8)\n",
      "memory usage: 311.1+ MB\n"
     ]
    }
   ],
   "source": [
    "essential_df.info()"
   ]
  },
  {
   "cell_type": "code",
   "execution_count": 25,
   "metadata": {},
   "outputs": [],
   "source": [
    "categorical_cols = ['term', 'grade', 'home_ownership', 'purpose', 'application_type', 'loan_status']\n",
    "for col in categorical_cols:\n",
    "    essential_df[col] = essential_df[col].str.strip()\n",
    "    essential_df[col] = essential_df[col].astype('category')"
   ]
  },
  {
   "cell_type": "code",
   "execution_count": 27,
   "metadata": {},
   "outputs": [],
   "source": [
    "def convert_int_rate(x):\n",
    "    s = re.compile(r\"^\\s*(\\d*\\.?\\d*)\").search(x).group(1)\n",
    "    return float(s)\n",
    "\n",
    "# convert_int_rate(' 123.65%')\n",
    "# essential_df['int_rate'] = essential_df['int_rate'].str.strip('%')\n",
    "# essential_df['int_rate'] = essential_df['int_rate'].apply(pd.to_numeric)\n",
    "essential_df['int_rate'] = essential_df['int_rate'].apply(convert_int_rate)"
   ]
  },
  {
   "cell_type": "code",
   "execution_count": 28,
   "metadata": {},
   "outputs": [
    {
     "data": {
      "text/html": [
       "<div>\n",
       "<style scoped>\n",
       "    .dataframe tbody tr th:only-of-type {\n",
       "        vertical-align: middle;\n",
       "    }\n",
       "\n",
       "    .dataframe tbody tr th {\n",
       "        vertical-align: top;\n",
       "    }\n",
       "\n",
       "    .dataframe thead th {\n",
       "        text-align: right;\n",
       "    }\n",
       "</style>\n",
       "<table border=\"1\" class=\"dataframe\">\n",
       "  <thead>\n",
       "    <tr style=\"text-align: right;\">\n",
       "      <th></th>\n",
       "      <th>loan_amnt</th>\n",
       "      <th>term</th>\n",
       "      <th>int_rate</th>\n",
       "      <th>grade</th>\n",
       "      <th>emp_length</th>\n",
       "      <th>home_ownership</th>\n",
       "      <th>annual_inc</th>\n",
       "      <th>issue_d</th>\n",
       "      <th>loan_status</th>\n",
       "      <th>purpose</th>\n",
       "      <th>dti</th>\n",
       "      <th>earliest_cr_line</th>\n",
       "      <th>application_type</th>\n",
       "      <th>chargeoff_within_12_mths</th>\n",
       "      <th>pub_rec_bankruptcies</th>\n",
       "    </tr>\n",
       "  </thead>\n",
       "  <tbody>\n",
       "    <tr>\n",
       "      <th>0</th>\n",
       "      <td>5000.0</td>\n",
       "      <td>36 months</td>\n",
       "      <td>10.65</td>\n",
       "      <td>B</td>\n",
       "      <td>10+ years</td>\n",
       "      <td>RENT</td>\n",
       "      <td>24000.0</td>\n",
       "      <td>2011-12-01</td>\n",
       "      <td>Fully Paid</td>\n",
       "      <td>credit_card</td>\n",
       "      <td>27.65</td>\n",
       "      <td>1985-01-01</td>\n",
       "      <td>Individual</td>\n",
       "      <td>0.0</td>\n",
       "      <td>0.0</td>\n",
       "    </tr>\n",
       "    <tr>\n",
       "      <th>1</th>\n",
       "      <td>2500.0</td>\n",
       "      <td>60 months</td>\n",
       "      <td>15.27</td>\n",
       "      <td>C</td>\n",
       "      <td>&lt; 1 year</td>\n",
       "      <td>RENT</td>\n",
       "      <td>30000.0</td>\n",
       "      <td>2011-12-01</td>\n",
       "      <td>Charged Off</td>\n",
       "      <td>car</td>\n",
       "      <td>1.00</td>\n",
       "      <td>1999-04-01</td>\n",
       "      <td>Individual</td>\n",
       "      <td>0.0</td>\n",
       "      <td>0.0</td>\n",
       "    </tr>\n",
       "    <tr>\n",
       "      <th>2</th>\n",
       "      <td>2400.0</td>\n",
       "      <td>36 months</td>\n",
       "      <td>15.96</td>\n",
       "      <td>C</td>\n",
       "      <td>10+ years</td>\n",
       "      <td>RENT</td>\n",
       "      <td>12252.0</td>\n",
       "      <td>2011-12-01</td>\n",
       "      <td>Fully Paid</td>\n",
       "      <td>small_business</td>\n",
       "      <td>8.72</td>\n",
       "      <td>2001-11-01</td>\n",
       "      <td>Individual</td>\n",
       "      <td>0.0</td>\n",
       "      <td>0.0</td>\n",
       "    </tr>\n",
       "    <tr>\n",
       "      <th>3</th>\n",
       "      <td>10000.0</td>\n",
       "      <td>36 months</td>\n",
       "      <td>13.49</td>\n",
       "      <td>C</td>\n",
       "      <td>10+ years</td>\n",
       "      <td>RENT</td>\n",
       "      <td>49200.0</td>\n",
       "      <td>2011-12-01</td>\n",
       "      <td>Fully Paid</td>\n",
       "      <td>other</td>\n",
       "      <td>20.00</td>\n",
       "      <td>1996-02-01</td>\n",
       "      <td>Individual</td>\n",
       "      <td>0.0</td>\n",
       "      <td>0.0</td>\n",
       "    </tr>\n",
       "    <tr>\n",
       "      <th>4</th>\n",
       "      <td>3000.0</td>\n",
       "      <td>60 months</td>\n",
       "      <td>12.69</td>\n",
       "      <td>B</td>\n",
       "      <td>1 year</td>\n",
       "      <td>RENT</td>\n",
       "      <td>80000.0</td>\n",
       "      <td>2011-12-01</td>\n",
       "      <td>Fully Paid</td>\n",
       "      <td>other</td>\n",
       "      <td>17.94</td>\n",
       "      <td>1996-01-01</td>\n",
       "      <td>Individual</td>\n",
       "      <td>0.0</td>\n",
       "      <td>0.0</td>\n",
       "    </tr>\n",
       "    <tr>\n",
       "      <th>...</th>\n",
       "      <td>...</td>\n",
       "      <td>...</td>\n",
       "      <td>...</td>\n",
       "      <td>...</td>\n",
       "      <td>...</td>\n",
       "      <td>...</td>\n",
       "      <td>...</td>\n",
       "      <td>...</td>\n",
       "      <td>...</td>\n",
       "      <td>...</td>\n",
       "      <td>...</td>\n",
       "      <td>...</td>\n",
       "      <td>...</td>\n",
       "      <td>...</td>\n",
       "      <td>...</td>\n",
       "    </tr>\n",
       "    <tr>\n",
       "      <th>2718618</th>\n",
       "      <td>24000.0</td>\n",
       "      <td>60 months</td>\n",
       "      <td>23.99</td>\n",
       "      <td>E</td>\n",
       "      <td>&lt; 1 year</td>\n",
       "      <td>RENT</td>\n",
       "      <td>107000.0</td>\n",
       "      <td>2017-04-01</td>\n",
       "      <td>Charged Off</td>\n",
       "      <td>other</td>\n",
       "      <td>11.65</td>\n",
       "      <td>1995-04-01</td>\n",
       "      <td>Individual</td>\n",
       "      <td>1.0</td>\n",
       "      <td>1.0</td>\n",
       "    </tr>\n",
       "    <tr>\n",
       "      <th>2718619</th>\n",
       "      <td>10000.0</td>\n",
       "      <td>36 months</td>\n",
       "      <td>7.99</td>\n",
       "      <td>A</td>\n",
       "      <td>10+ years</td>\n",
       "      <td>MORTGAGE</td>\n",
       "      <td>65000.0</td>\n",
       "      <td>2017-04-01</td>\n",
       "      <td>Fully Paid</td>\n",
       "      <td>debt_consolidation</td>\n",
       "      <td>19.55</td>\n",
       "      <td>1993-09-01</td>\n",
       "      <td>Individual</td>\n",
       "      <td>0.0</td>\n",
       "      <td>0.0</td>\n",
       "    </tr>\n",
       "    <tr>\n",
       "      <th>2718620</th>\n",
       "      <td>10050.0</td>\n",
       "      <td>36 months</td>\n",
       "      <td>16.99</td>\n",
       "      <td>D</td>\n",
       "      <td>8 years</td>\n",
       "      <td>RENT</td>\n",
       "      <td>37000.0</td>\n",
       "      <td>2017-04-01</td>\n",
       "      <td>Charged Off</td>\n",
       "      <td>debt_consolidation</td>\n",
       "      <td>20.56</td>\n",
       "      <td>1993-05-01</td>\n",
       "      <td>Individual</td>\n",
       "      <td>0.0</td>\n",
       "      <td>0.0</td>\n",
       "    </tr>\n",
       "    <tr>\n",
       "      <th>2718621</th>\n",
       "      <td>6000.0</td>\n",
       "      <td>36 months</td>\n",
       "      <td>11.44</td>\n",
       "      <td>B</td>\n",
       "      <td>5 years</td>\n",
       "      <td>RENT</td>\n",
       "      <td>41000.0</td>\n",
       "      <td>2017-04-01</td>\n",
       "      <td>Fully Paid</td>\n",
       "      <td>credit_card</td>\n",
       "      <td>19.99</td>\n",
       "      <td>1990-05-01</td>\n",
       "      <td>Individual</td>\n",
       "      <td>0.0</td>\n",
       "      <td>0.0</td>\n",
       "    </tr>\n",
       "    <tr>\n",
       "      <th>2718622</th>\n",
       "      <td>30000.0</td>\n",
       "      <td>60 months</td>\n",
       "      <td>25.49</td>\n",
       "      <td>E</td>\n",
       "      <td>4 years</td>\n",
       "      <td>MORTGAGE</td>\n",
       "      <td>105700.0</td>\n",
       "      <td>2017-04-01</td>\n",
       "      <td>Charged Off</td>\n",
       "      <td>debt_consolidation</td>\n",
       "      <td>27.26</td>\n",
       "      <td>1997-11-01</td>\n",
       "      <td>Individual</td>\n",
       "      <td>0.0</td>\n",
       "      <td>0.0</td>\n",
       "    </tr>\n",
       "  </tbody>\n",
       "</table>\n",
       "<p>2718623 rows × 15 columns</p>\n",
       "</div>"
      ],
      "text/plain": [
       "         loan_amnt       term  int_rate grade emp_length home_ownership  \\\n",
       "0           5000.0  36 months     10.65     B  10+ years           RENT   \n",
       "1           2500.0  60 months     15.27     C   < 1 year           RENT   \n",
       "2           2400.0  36 months     15.96     C  10+ years           RENT   \n",
       "3          10000.0  36 months     13.49     C  10+ years           RENT   \n",
       "4           3000.0  60 months     12.69     B     1 year           RENT   \n",
       "...            ...        ...       ...   ...        ...            ...   \n",
       "2718618    24000.0  60 months     23.99     E   < 1 year           RENT   \n",
       "2718619    10000.0  36 months      7.99     A  10+ years       MORTGAGE   \n",
       "2718620    10050.0  36 months     16.99     D    8 years           RENT   \n",
       "2718621     6000.0  36 months     11.44     B    5 years           RENT   \n",
       "2718622    30000.0  60 months     25.49     E    4 years       MORTGAGE   \n",
       "\n",
       "         annual_inc    issue_d  loan_status             purpose    dti  \\\n",
       "0           24000.0 2011-12-01   Fully Paid         credit_card  27.65   \n",
       "1           30000.0 2011-12-01  Charged Off                 car   1.00   \n",
       "2           12252.0 2011-12-01   Fully Paid      small_business   8.72   \n",
       "3           49200.0 2011-12-01   Fully Paid               other  20.00   \n",
       "4           80000.0 2011-12-01   Fully Paid               other  17.94   \n",
       "...             ...        ...          ...                 ...    ...   \n",
       "2718618    107000.0 2017-04-01  Charged Off               other  11.65   \n",
       "2718619     65000.0 2017-04-01   Fully Paid  debt_consolidation  19.55   \n",
       "2718620     37000.0 2017-04-01  Charged Off  debt_consolidation  20.56   \n",
       "2718621     41000.0 2017-04-01   Fully Paid         credit_card  19.99   \n",
       "2718622    105700.0 2017-04-01  Charged Off  debt_consolidation  27.26   \n",
       "\n",
       "        earliest_cr_line application_type  chargeoff_within_12_mths  \\\n",
       "0             1985-01-01       Individual                       0.0   \n",
       "1             1999-04-01       Individual                       0.0   \n",
       "2             2001-11-01       Individual                       0.0   \n",
       "3             1996-02-01       Individual                       0.0   \n",
       "4             1996-01-01       Individual                       0.0   \n",
       "...                  ...              ...                       ...   \n",
       "2718618       1995-04-01       Individual                       1.0   \n",
       "2718619       1993-09-01       Individual                       0.0   \n",
       "2718620       1993-05-01       Individual                       0.0   \n",
       "2718621       1990-05-01       Individual                       0.0   \n",
       "2718622       1997-11-01       Individual                       0.0   \n",
       "\n",
       "         pub_rec_bankruptcies  \n",
       "0                         0.0  \n",
       "1                         0.0  \n",
       "2                         0.0  \n",
       "3                         0.0  \n",
       "4                         0.0  \n",
       "...                       ...  \n",
       "2718618                   1.0  \n",
       "2718619                   0.0  \n",
       "2718620                   0.0  \n",
       "2718621                   0.0  \n",
       "2718622                   0.0  \n",
       "\n",
       "[2718623 rows x 15 columns]"
      ]
     },
     "execution_count": 28,
     "metadata": {},
     "output_type": "execute_result"
    }
   ],
   "source": [
    "essential_df"
   ]
  },
  {
   "cell_type": "code",
   "execution_count": 29,
   "metadata": {},
   "outputs": [
    {
     "data": {
      "text/plain": [
       "array(['10+ years', '< 1 year', '1 year', '3 years', '8 years', '9 years',\n",
       "       '4 years', '5 years', '6 years', '2 years', '7 years'],\n",
       "      dtype=object)"
      ]
     },
     "execution_count": 29,
     "metadata": {},
     "output_type": "execute_result"
    }
   ],
   "source": [
    "essential_df['emp_length'].unique()"
   ]
  },
  {
   "cell_type": "code",
   "execution_count": 30,
   "metadata": {},
   "outputs": [],
   "source": [
    "def extract_emp_length_num(x):\n",
    "    s = re.compile(r\"(.+)year\").search(x).group(1).strip()\n",
    "    if s == '10+':\n",
    "        return 10\n",
    "    \n",
    "    if s == '< 1':\n",
    "        return 0\n",
    "    \n",
    "    return int(s)\n",
    "\n",
    "# extract_emp_length_num('7 years')\n",
    "essential_df['emp_length'] = essential_df['emp_length'].apply(extract_emp_length_num)"
   ]
  },
  {
   "cell_type": "code",
   "execution_count": 31,
   "metadata": {},
   "outputs": [
    {
     "data": {
      "text/html": [
       "<div>\n",
       "<style scoped>\n",
       "    .dataframe tbody tr th:only-of-type {\n",
       "        vertical-align: middle;\n",
       "    }\n",
       "\n",
       "    .dataframe tbody tr th {\n",
       "        vertical-align: top;\n",
       "    }\n",
       "\n",
       "    .dataframe thead th {\n",
       "        text-align: right;\n",
       "    }\n",
       "</style>\n",
       "<table border=\"1\" class=\"dataframe\">\n",
       "  <thead>\n",
       "    <tr style=\"text-align: right;\">\n",
       "      <th></th>\n",
       "      <th>loan_amnt</th>\n",
       "      <th>term</th>\n",
       "      <th>int_rate</th>\n",
       "      <th>grade</th>\n",
       "      <th>emp_length</th>\n",
       "      <th>home_ownership</th>\n",
       "      <th>annual_inc</th>\n",
       "      <th>issue_d</th>\n",
       "      <th>loan_status</th>\n",
       "      <th>purpose</th>\n",
       "      <th>dti</th>\n",
       "      <th>earliest_cr_line</th>\n",
       "      <th>application_type</th>\n",
       "      <th>chargeoff_within_12_mths</th>\n",
       "      <th>pub_rec_bankruptcies</th>\n",
       "    </tr>\n",
       "  </thead>\n",
       "  <tbody>\n",
       "    <tr>\n",
       "      <th>0</th>\n",
       "      <td>5000.0</td>\n",
       "      <td>36 months</td>\n",
       "      <td>10.65</td>\n",
       "      <td>B</td>\n",
       "      <td>10</td>\n",
       "      <td>RENT</td>\n",
       "      <td>24000.0</td>\n",
       "      <td>2011-12-01</td>\n",
       "      <td>Fully Paid</td>\n",
       "      <td>credit_card</td>\n",
       "      <td>27.65</td>\n",
       "      <td>1985-01-01</td>\n",
       "      <td>Individual</td>\n",
       "      <td>0.0</td>\n",
       "      <td>0.0</td>\n",
       "    </tr>\n",
       "    <tr>\n",
       "      <th>1</th>\n",
       "      <td>2500.0</td>\n",
       "      <td>60 months</td>\n",
       "      <td>15.27</td>\n",
       "      <td>C</td>\n",
       "      <td>0</td>\n",
       "      <td>RENT</td>\n",
       "      <td>30000.0</td>\n",
       "      <td>2011-12-01</td>\n",
       "      <td>Charged Off</td>\n",
       "      <td>car</td>\n",
       "      <td>1.00</td>\n",
       "      <td>1999-04-01</td>\n",
       "      <td>Individual</td>\n",
       "      <td>0.0</td>\n",
       "      <td>0.0</td>\n",
       "    </tr>\n",
       "    <tr>\n",
       "      <th>2</th>\n",
       "      <td>2400.0</td>\n",
       "      <td>36 months</td>\n",
       "      <td>15.96</td>\n",
       "      <td>C</td>\n",
       "      <td>10</td>\n",
       "      <td>RENT</td>\n",
       "      <td>12252.0</td>\n",
       "      <td>2011-12-01</td>\n",
       "      <td>Fully Paid</td>\n",
       "      <td>small_business</td>\n",
       "      <td>8.72</td>\n",
       "      <td>2001-11-01</td>\n",
       "      <td>Individual</td>\n",
       "      <td>0.0</td>\n",
       "      <td>0.0</td>\n",
       "    </tr>\n",
       "    <tr>\n",
       "      <th>3</th>\n",
       "      <td>10000.0</td>\n",
       "      <td>36 months</td>\n",
       "      <td>13.49</td>\n",
       "      <td>C</td>\n",
       "      <td>10</td>\n",
       "      <td>RENT</td>\n",
       "      <td>49200.0</td>\n",
       "      <td>2011-12-01</td>\n",
       "      <td>Fully Paid</td>\n",
       "      <td>other</td>\n",
       "      <td>20.00</td>\n",
       "      <td>1996-02-01</td>\n",
       "      <td>Individual</td>\n",
       "      <td>0.0</td>\n",
       "      <td>0.0</td>\n",
       "    </tr>\n",
       "    <tr>\n",
       "      <th>4</th>\n",
       "      <td>3000.0</td>\n",
       "      <td>60 months</td>\n",
       "      <td>12.69</td>\n",
       "      <td>B</td>\n",
       "      <td>1</td>\n",
       "      <td>RENT</td>\n",
       "      <td>80000.0</td>\n",
       "      <td>2011-12-01</td>\n",
       "      <td>Fully Paid</td>\n",
       "      <td>other</td>\n",
       "      <td>17.94</td>\n",
       "      <td>1996-01-01</td>\n",
       "      <td>Individual</td>\n",
       "      <td>0.0</td>\n",
       "      <td>0.0</td>\n",
       "    </tr>\n",
       "    <tr>\n",
       "      <th>...</th>\n",
       "      <td>...</td>\n",
       "      <td>...</td>\n",
       "      <td>...</td>\n",
       "      <td>...</td>\n",
       "      <td>...</td>\n",
       "      <td>...</td>\n",
       "      <td>...</td>\n",
       "      <td>...</td>\n",
       "      <td>...</td>\n",
       "      <td>...</td>\n",
       "      <td>...</td>\n",
       "      <td>...</td>\n",
       "      <td>...</td>\n",
       "      <td>...</td>\n",
       "      <td>...</td>\n",
       "    </tr>\n",
       "    <tr>\n",
       "      <th>2718618</th>\n",
       "      <td>24000.0</td>\n",
       "      <td>60 months</td>\n",
       "      <td>23.99</td>\n",
       "      <td>E</td>\n",
       "      <td>0</td>\n",
       "      <td>RENT</td>\n",
       "      <td>107000.0</td>\n",
       "      <td>2017-04-01</td>\n",
       "      <td>Charged Off</td>\n",
       "      <td>other</td>\n",
       "      <td>11.65</td>\n",
       "      <td>1995-04-01</td>\n",
       "      <td>Individual</td>\n",
       "      <td>1.0</td>\n",
       "      <td>1.0</td>\n",
       "    </tr>\n",
       "    <tr>\n",
       "      <th>2718619</th>\n",
       "      <td>10000.0</td>\n",
       "      <td>36 months</td>\n",
       "      <td>7.99</td>\n",
       "      <td>A</td>\n",
       "      <td>10</td>\n",
       "      <td>MORTGAGE</td>\n",
       "      <td>65000.0</td>\n",
       "      <td>2017-04-01</td>\n",
       "      <td>Fully Paid</td>\n",
       "      <td>debt_consolidation</td>\n",
       "      <td>19.55</td>\n",
       "      <td>1993-09-01</td>\n",
       "      <td>Individual</td>\n",
       "      <td>0.0</td>\n",
       "      <td>0.0</td>\n",
       "    </tr>\n",
       "    <tr>\n",
       "      <th>2718620</th>\n",
       "      <td>10050.0</td>\n",
       "      <td>36 months</td>\n",
       "      <td>16.99</td>\n",
       "      <td>D</td>\n",
       "      <td>8</td>\n",
       "      <td>RENT</td>\n",
       "      <td>37000.0</td>\n",
       "      <td>2017-04-01</td>\n",
       "      <td>Charged Off</td>\n",
       "      <td>debt_consolidation</td>\n",
       "      <td>20.56</td>\n",
       "      <td>1993-05-01</td>\n",
       "      <td>Individual</td>\n",
       "      <td>0.0</td>\n",
       "      <td>0.0</td>\n",
       "    </tr>\n",
       "    <tr>\n",
       "      <th>2718621</th>\n",
       "      <td>6000.0</td>\n",
       "      <td>36 months</td>\n",
       "      <td>11.44</td>\n",
       "      <td>B</td>\n",
       "      <td>5</td>\n",
       "      <td>RENT</td>\n",
       "      <td>41000.0</td>\n",
       "      <td>2017-04-01</td>\n",
       "      <td>Fully Paid</td>\n",
       "      <td>credit_card</td>\n",
       "      <td>19.99</td>\n",
       "      <td>1990-05-01</td>\n",
       "      <td>Individual</td>\n",
       "      <td>0.0</td>\n",
       "      <td>0.0</td>\n",
       "    </tr>\n",
       "    <tr>\n",
       "      <th>2718622</th>\n",
       "      <td>30000.0</td>\n",
       "      <td>60 months</td>\n",
       "      <td>25.49</td>\n",
       "      <td>E</td>\n",
       "      <td>4</td>\n",
       "      <td>MORTGAGE</td>\n",
       "      <td>105700.0</td>\n",
       "      <td>2017-04-01</td>\n",
       "      <td>Charged Off</td>\n",
       "      <td>debt_consolidation</td>\n",
       "      <td>27.26</td>\n",
       "      <td>1997-11-01</td>\n",
       "      <td>Individual</td>\n",
       "      <td>0.0</td>\n",
       "      <td>0.0</td>\n",
       "    </tr>\n",
       "  </tbody>\n",
       "</table>\n",
       "<p>2718623 rows × 15 columns</p>\n",
       "</div>"
      ],
      "text/plain": [
       "         loan_amnt       term  int_rate grade  emp_length home_ownership  \\\n",
       "0           5000.0  36 months     10.65     B          10           RENT   \n",
       "1           2500.0  60 months     15.27     C           0           RENT   \n",
       "2           2400.0  36 months     15.96     C          10           RENT   \n",
       "3          10000.0  36 months     13.49     C          10           RENT   \n",
       "4           3000.0  60 months     12.69     B           1           RENT   \n",
       "...            ...        ...       ...   ...         ...            ...   \n",
       "2718618    24000.0  60 months     23.99     E           0           RENT   \n",
       "2718619    10000.0  36 months      7.99     A          10       MORTGAGE   \n",
       "2718620    10050.0  36 months     16.99     D           8           RENT   \n",
       "2718621     6000.0  36 months     11.44     B           5           RENT   \n",
       "2718622    30000.0  60 months     25.49     E           4       MORTGAGE   \n",
       "\n",
       "         annual_inc    issue_d  loan_status             purpose    dti  \\\n",
       "0           24000.0 2011-12-01   Fully Paid         credit_card  27.65   \n",
       "1           30000.0 2011-12-01  Charged Off                 car   1.00   \n",
       "2           12252.0 2011-12-01   Fully Paid      small_business   8.72   \n",
       "3           49200.0 2011-12-01   Fully Paid               other  20.00   \n",
       "4           80000.0 2011-12-01   Fully Paid               other  17.94   \n",
       "...             ...        ...          ...                 ...    ...   \n",
       "2718618    107000.0 2017-04-01  Charged Off               other  11.65   \n",
       "2718619     65000.0 2017-04-01   Fully Paid  debt_consolidation  19.55   \n",
       "2718620     37000.0 2017-04-01  Charged Off  debt_consolidation  20.56   \n",
       "2718621     41000.0 2017-04-01   Fully Paid         credit_card  19.99   \n",
       "2718622    105700.0 2017-04-01  Charged Off  debt_consolidation  27.26   \n",
       "\n",
       "        earliest_cr_line application_type  chargeoff_within_12_mths  \\\n",
       "0             1985-01-01       Individual                       0.0   \n",
       "1             1999-04-01       Individual                       0.0   \n",
       "2             2001-11-01       Individual                       0.0   \n",
       "3             1996-02-01       Individual                       0.0   \n",
       "4             1996-01-01       Individual                       0.0   \n",
       "...                  ...              ...                       ...   \n",
       "2718618       1995-04-01       Individual                       1.0   \n",
       "2718619       1993-09-01       Individual                       0.0   \n",
       "2718620       1993-05-01       Individual                       0.0   \n",
       "2718621       1990-05-01       Individual                       0.0   \n",
       "2718622       1997-11-01       Individual                       0.0   \n",
       "\n",
       "         pub_rec_bankruptcies  \n",
       "0                         0.0  \n",
       "1                         0.0  \n",
       "2                         0.0  \n",
       "3                         0.0  \n",
       "4                         0.0  \n",
       "...                       ...  \n",
       "2718618                   1.0  \n",
       "2718619                   0.0  \n",
       "2718620                   0.0  \n",
       "2718621                   0.0  \n",
       "2718622                   0.0  \n",
       "\n",
       "[2718623 rows x 15 columns]"
      ]
     },
     "execution_count": 31,
     "metadata": {},
     "output_type": "execute_result"
    }
   ],
   "source": [
    "essential_df"
   ]
  },
  {
   "cell_type": "code",
   "execution_count": 32,
   "metadata": {},
   "outputs": [
    {
     "data": {
      "text/plain": [
       "Fully Paid                                             1410670\n",
       "Current                                                 946110\n",
       "Charged Off                                             331691\n",
       "Late (31-120 days)                                       14302\n",
       "In Grace Period                                           9197\n",
       "Late (16-30 days)                                         2337\n",
       "Issued                                                    1903\n",
       "Does not meet the credit policy. Status:Fully Paid        1514\n",
       "Does not meet the credit policy. Status:Charged Off        530\n",
       "Default                                                    369\n",
       "Name: loan_status, dtype: int64"
      ]
     },
     "execution_count": 32,
     "metadata": {},
     "output_type": "execute_result"
    }
   ],
   "source": [
    "essential_df['loan_status'].value_counts()"
   ]
  },
  {
   "cell_type": "code",
   "execution_count": 33,
   "metadata": {},
   "outputs": [],
   "source": [
    "# 0: Non-Default\n",
    "# 1: Default\n",
    "replace_pattern = {\n",
    "    'Fully Paid': 0, \n",
    "    'Current': 0, \n",
    "    'Charged Off': 1,\n",
    "    'Late (31-120 days)': 1, \n",
    "    'In Grace Period': 1,\n",
    "    'Late (16-30 days)': 1,\n",
    "    'Issued': 0,\n",
    "    'Does not meet the credit policy. Status:Fully Paid': 0,\n",
    "    'Does not meet the credit policy. Status:Charged Off': 1,\n",
    "    'Default': 1\n",
    "}\n",
    "essential_df['loan_status'] = essential_df['loan_status'].replace(replace_pattern)"
   ]
  },
  {
   "cell_type": "code",
   "execution_count": 34,
   "metadata": {},
   "outputs": [
    {
     "data": {
      "text/html": [
       "<div>\n",
       "<style scoped>\n",
       "    .dataframe tbody tr th:only-of-type {\n",
       "        vertical-align: middle;\n",
       "    }\n",
       "\n",
       "    .dataframe tbody tr th {\n",
       "        vertical-align: top;\n",
       "    }\n",
       "\n",
       "    .dataframe thead th {\n",
       "        text-align: right;\n",
       "    }\n",
       "</style>\n",
       "<table border=\"1\" class=\"dataframe\">\n",
       "  <thead>\n",
       "    <tr style=\"text-align: right;\">\n",
       "      <th></th>\n",
       "      <th>loan_amnt</th>\n",
       "      <th>term</th>\n",
       "      <th>int_rate</th>\n",
       "      <th>grade</th>\n",
       "      <th>emp_length</th>\n",
       "      <th>home_ownership</th>\n",
       "      <th>annual_inc</th>\n",
       "      <th>issue_d</th>\n",
       "      <th>loan_status</th>\n",
       "      <th>purpose</th>\n",
       "      <th>dti</th>\n",
       "      <th>earliest_cr_line</th>\n",
       "      <th>application_type</th>\n",
       "      <th>chargeoff_within_12_mths</th>\n",
       "      <th>pub_rec_bankruptcies</th>\n",
       "    </tr>\n",
       "  </thead>\n",
       "  <tbody>\n",
       "    <tr>\n",
       "      <th>0</th>\n",
       "      <td>5000.0</td>\n",
       "      <td>36 months</td>\n",
       "      <td>10.65</td>\n",
       "      <td>B</td>\n",
       "      <td>10</td>\n",
       "      <td>RENT</td>\n",
       "      <td>24000.0</td>\n",
       "      <td>2011-12-01</td>\n",
       "      <td>0</td>\n",
       "      <td>credit_card</td>\n",
       "      <td>27.65</td>\n",
       "      <td>1985-01-01</td>\n",
       "      <td>Individual</td>\n",
       "      <td>0.0</td>\n",
       "      <td>0.0</td>\n",
       "    </tr>\n",
       "    <tr>\n",
       "      <th>1</th>\n",
       "      <td>2500.0</td>\n",
       "      <td>60 months</td>\n",
       "      <td>15.27</td>\n",
       "      <td>C</td>\n",
       "      <td>0</td>\n",
       "      <td>RENT</td>\n",
       "      <td>30000.0</td>\n",
       "      <td>2011-12-01</td>\n",
       "      <td>1</td>\n",
       "      <td>car</td>\n",
       "      <td>1.00</td>\n",
       "      <td>1999-04-01</td>\n",
       "      <td>Individual</td>\n",
       "      <td>0.0</td>\n",
       "      <td>0.0</td>\n",
       "    </tr>\n",
       "    <tr>\n",
       "      <th>2</th>\n",
       "      <td>2400.0</td>\n",
       "      <td>36 months</td>\n",
       "      <td>15.96</td>\n",
       "      <td>C</td>\n",
       "      <td>10</td>\n",
       "      <td>RENT</td>\n",
       "      <td>12252.0</td>\n",
       "      <td>2011-12-01</td>\n",
       "      <td>0</td>\n",
       "      <td>small_business</td>\n",
       "      <td>8.72</td>\n",
       "      <td>2001-11-01</td>\n",
       "      <td>Individual</td>\n",
       "      <td>0.0</td>\n",
       "      <td>0.0</td>\n",
       "    </tr>\n",
       "    <tr>\n",
       "      <th>3</th>\n",
       "      <td>10000.0</td>\n",
       "      <td>36 months</td>\n",
       "      <td>13.49</td>\n",
       "      <td>C</td>\n",
       "      <td>10</td>\n",
       "      <td>RENT</td>\n",
       "      <td>49200.0</td>\n",
       "      <td>2011-12-01</td>\n",
       "      <td>0</td>\n",
       "      <td>other</td>\n",
       "      <td>20.00</td>\n",
       "      <td>1996-02-01</td>\n",
       "      <td>Individual</td>\n",
       "      <td>0.0</td>\n",
       "      <td>0.0</td>\n",
       "    </tr>\n",
       "    <tr>\n",
       "      <th>4</th>\n",
       "      <td>3000.0</td>\n",
       "      <td>60 months</td>\n",
       "      <td>12.69</td>\n",
       "      <td>B</td>\n",
       "      <td>1</td>\n",
       "      <td>RENT</td>\n",
       "      <td>80000.0</td>\n",
       "      <td>2011-12-01</td>\n",
       "      <td>0</td>\n",
       "      <td>other</td>\n",
       "      <td>17.94</td>\n",
       "      <td>1996-01-01</td>\n",
       "      <td>Individual</td>\n",
       "      <td>0.0</td>\n",
       "      <td>0.0</td>\n",
       "    </tr>\n",
       "    <tr>\n",
       "      <th>...</th>\n",
       "      <td>...</td>\n",
       "      <td>...</td>\n",
       "      <td>...</td>\n",
       "      <td>...</td>\n",
       "      <td>...</td>\n",
       "      <td>...</td>\n",
       "      <td>...</td>\n",
       "      <td>...</td>\n",
       "      <td>...</td>\n",
       "      <td>...</td>\n",
       "      <td>...</td>\n",
       "      <td>...</td>\n",
       "      <td>...</td>\n",
       "      <td>...</td>\n",
       "      <td>...</td>\n",
       "    </tr>\n",
       "    <tr>\n",
       "      <th>2718618</th>\n",
       "      <td>24000.0</td>\n",
       "      <td>60 months</td>\n",
       "      <td>23.99</td>\n",
       "      <td>E</td>\n",
       "      <td>0</td>\n",
       "      <td>RENT</td>\n",
       "      <td>107000.0</td>\n",
       "      <td>2017-04-01</td>\n",
       "      <td>1</td>\n",
       "      <td>other</td>\n",
       "      <td>11.65</td>\n",
       "      <td>1995-04-01</td>\n",
       "      <td>Individual</td>\n",
       "      <td>1.0</td>\n",
       "      <td>1.0</td>\n",
       "    </tr>\n",
       "    <tr>\n",
       "      <th>2718619</th>\n",
       "      <td>10000.0</td>\n",
       "      <td>36 months</td>\n",
       "      <td>7.99</td>\n",
       "      <td>A</td>\n",
       "      <td>10</td>\n",
       "      <td>MORTGAGE</td>\n",
       "      <td>65000.0</td>\n",
       "      <td>2017-04-01</td>\n",
       "      <td>0</td>\n",
       "      <td>debt_consolidation</td>\n",
       "      <td>19.55</td>\n",
       "      <td>1993-09-01</td>\n",
       "      <td>Individual</td>\n",
       "      <td>0.0</td>\n",
       "      <td>0.0</td>\n",
       "    </tr>\n",
       "    <tr>\n",
       "      <th>2718620</th>\n",
       "      <td>10050.0</td>\n",
       "      <td>36 months</td>\n",
       "      <td>16.99</td>\n",
       "      <td>D</td>\n",
       "      <td>8</td>\n",
       "      <td>RENT</td>\n",
       "      <td>37000.0</td>\n",
       "      <td>2017-04-01</td>\n",
       "      <td>1</td>\n",
       "      <td>debt_consolidation</td>\n",
       "      <td>20.56</td>\n",
       "      <td>1993-05-01</td>\n",
       "      <td>Individual</td>\n",
       "      <td>0.0</td>\n",
       "      <td>0.0</td>\n",
       "    </tr>\n",
       "    <tr>\n",
       "      <th>2718621</th>\n",
       "      <td>6000.0</td>\n",
       "      <td>36 months</td>\n",
       "      <td>11.44</td>\n",
       "      <td>B</td>\n",
       "      <td>5</td>\n",
       "      <td>RENT</td>\n",
       "      <td>41000.0</td>\n",
       "      <td>2017-04-01</td>\n",
       "      <td>0</td>\n",
       "      <td>credit_card</td>\n",
       "      <td>19.99</td>\n",
       "      <td>1990-05-01</td>\n",
       "      <td>Individual</td>\n",
       "      <td>0.0</td>\n",
       "      <td>0.0</td>\n",
       "    </tr>\n",
       "    <tr>\n",
       "      <th>2718622</th>\n",
       "      <td>30000.0</td>\n",
       "      <td>60 months</td>\n",
       "      <td>25.49</td>\n",
       "      <td>E</td>\n",
       "      <td>4</td>\n",
       "      <td>MORTGAGE</td>\n",
       "      <td>105700.0</td>\n",
       "      <td>2017-04-01</td>\n",
       "      <td>1</td>\n",
       "      <td>debt_consolidation</td>\n",
       "      <td>27.26</td>\n",
       "      <td>1997-11-01</td>\n",
       "      <td>Individual</td>\n",
       "      <td>0.0</td>\n",
       "      <td>0.0</td>\n",
       "    </tr>\n",
       "  </tbody>\n",
       "</table>\n",
       "<p>2718623 rows × 15 columns</p>\n",
       "</div>"
      ],
      "text/plain": [
       "         loan_amnt       term  int_rate grade  emp_length home_ownership  \\\n",
       "0           5000.0  36 months     10.65     B          10           RENT   \n",
       "1           2500.0  60 months     15.27     C           0           RENT   \n",
       "2           2400.0  36 months     15.96     C          10           RENT   \n",
       "3          10000.0  36 months     13.49     C          10           RENT   \n",
       "4           3000.0  60 months     12.69     B           1           RENT   \n",
       "...            ...        ...       ...   ...         ...            ...   \n",
       "2718618    24000.0  60 months     23.99     E           0           RENT   \n",
       "2718619    10000.0  36 months      7.99     A          10       MORTGAGE   \n",
       "2718620    10050.0  36 months     16.99     D           8           RENT   \n",
       "2718621     6000.0  36 months     11.44     B           5           RENT   \n",
       "2718622    30000.0  60 months     25.49     E           4       MORTGAGE   \n",
       "\n",
       "         annual_inc    issue_d loan_status             purpose    dti  \\\n",
       "0           24000.0 2011-12-01           0         credit_card  27.65   \n",
       "1           30000.0 2011-12-01           1                 car   1.00   \n",
       "2           12252.0 2011-12-01           0      small_business   8.72   \n",
       "3           49200.0 2011-12-01           0               other  20.00   \n",
       "4           80000.0 2011-12-01           0               other  17.94   \n",
       "...             ...        ...         ...                 ...    ...   \n",
       "2718618    107000.0 2017-04-01           1               other  11.65   \n",
       "2718619     65000.0 2017-04-01           0  debt_consolidation  19.55   \n",
       "2718620     37000.0 2017-04-01           1  debt_consolidation  20.56   \n",
       "2718621     41000.0 2017-04-01           0         credit_card  19.99   \n",
       "2718622    105700.0 2017-04-01           1  debt_consolidation  27.26   \n",
       "\n",
       "        earliest_cr_line application_type  chargeoff_within_12_mths  \\\n",
       "0             1985-01-01       Individual                       0.0   \n",
       "1             1999-04-01       Individual                       0.0   \n",
       "2             2001-11-01       Individual                       0.0   \n",
       "3             1996-02-01       Individual                       0.0   \n",
       "4             1996-01-01       Individual                       0.0   \n",
       "...                  ...              ...                       ...   \n",
       "2718618       1995-04-01       Individual                       1.0   \n",
       "2718619       1993-09-01       Individual                       0.0   \n",
       "2718620       1993-05-01       Individual                       0.0   \n",
       "2718621       1990-05-01       Individual                       0.0   \n",
       "2718622       1997-11-01       Individual                       0.0   \n",
       "\n",
       "         pub_rec_bankruptcies  \n",
       "0                         0.0  \n",
       "1                         0.0  \n",
       "2                         0.0  \n",
       "3                         0.0  \n",
       "4                         0.0  \n",
       "...                       ...  \n",
       "2718618                   1.0  \n",
       "2718619                   0.0  \n",
       "2718620                   0.0  \n",
       "2718621                   0.0  \n",
       "2718622                   0.0  \n",
       "\n",
       "[2718623 rows x 15 columns]"
      ]
     },
     "execution_count": 34,
     "metadata": {},
     "output_type": "execute_result"
    }
   ],
   "source": [
    "essential_df"
   ]
  },
  {
   "cell_type": "markdown",
   "metadata": {
    "tags": []
   },
   "source": [
    "## <span style=\"color: #79E0EE\">EDA</span>"
   ]
  },
  {
   "cell_type": "code",
   "execution_count": 35,
   "metadata": {},
   "outputs": [
    {
     "data": {
      "text/plain": [
       "0    2360197\n",
       "1     358426\n",
       "Name: loan_status, dtype: int64"
      ]
     },
     "execution_count": 35,
     "metadata": {},
     "output_type": "execute_result"
    }
   ],
   "source": [
    "essential_df['loan_status'].value_counts()"
   ]
  },
  {
   "cell_type": "code",
   "execution_count": 38,
   "metadata": {},
   "outputs": [
    {
     "data": {
      "image/png": "[encoded data removed]",
      "text/plain": [
       "<Figure size 576x432 with 1 Axes>"
      ]
     },
     "metadata": {},
     "output_type": "display_data"
    }
   ],
   "source": [
    "fig = plt.figure(figsize=(8, 6))\n",
    "ax = sns.countplot(data=essential_df, x='loan_status')\n",
    "ax.set_xticklabels(labels=['Default', 'Non-Default'])\n",
    "plt.show()"
   ]
  },
  {
   "cell_type": "code",
   "execution_count": 39,
   "metadata": {},
   "outputs": [
    {
     "data": {
      "image/png": "[encoded data removed]",
      "text/plain": [
       "<Figure size 576x432 with 1 Axes>"
      ]
     },
     "metadata": {},
     "output_type": "display_data"
    }
   ],
   "source": [
    "fig = plt.figure(figsize=(8, 6))\n",
    "ax = sns.countplot(data=essential_df, x='application_type', hue='loan_status')\n",
    "ax.legend(labels=['Default', 'Non-Default'], title=\"Loan Status\")\n",
    "plt.show()"
   ]
  },
  {
   "cell_type": "code",
   "execution_count": 40,
   "metadata": {},
   "outputs": [
    {
     "data": {
      "text/plain": [
       "['RENT', 'OWN', 'MORTGAGE', 'OTHER', 'NONE', 'ANY']\n",
       "Categories (6, object): ['ANY', 'MORTGAGE', 'NONE', 'OTHER', 'OWN', 'RENT']"
      ]
     },
     "execution_count": 40,
     "metadata": {},
     "output_type": "execute_result"
    }
   ],
   "source": [
    "essential_df['home_ownership'].unique()"
   ]
  },
  {
   "cell_type": "code",
   "execution_count": 41,
   "metadata": {},
   "outputs": [
    {
     "data": {
      "image/png": "[encoded data removed]",
      "text/plain": [
       "<Figure size 576x432 with 1 Axes>"
      ]
     },
     "metadata": {},
     "output_type": "display_data"
    }
   ],
   "source": [
    "fig = plt.figure(figsize=(8, 6))\n",
    "ax = sns.countplot(data=essential_df, x='home_ownership', hue='loan_status')\n",
    "ax.legend(labels=['Default', 'Non-Default'], title=\"Loan Status\")\n",
    "plt.show()"
   ]
  },
  {
   "cell_type": "code",
   "execution_count": 42,
   "metadata": {},
   "outputs": [
    {
     "data": {
      "image/png": "[encoded data removed]",
      "text/plain": [
       "<Figure size 1008x720 with 1 Axes>"
      ]
     },
     "metadata": {},
     "output_type": "display_data"
    }
   ],
   "source": [
    "fig = plt.figure(figsize=(14, 10))\n",
    "ax = sns.countplot(data=essential_df, x='purpose', hue='loan_status')\n",
    "ax.legend(labels=['Default', 'Non-Default'], title=\"Loan Status\")\n",
    "plt.xticks(rotation=90)\n",
    "plt.show()"
   ]
  },
  {
   "cell_type": "code",
   "execution_count": 43,
   "metadata": {},
   "outputs": [
    {
     "data": {
      "image/png": "[encoded data removed]",
      "text/plain": [
       "<Figure size 720x576 with 1 Axes>"
      ]
     },
     "metadata": {},
     "output_type": "display_data"
    }
   ],
   "source": [
    "fig = plt.figure(figsize=(10, 8))\n",
    "ax = sns.countplot(data=essential_df, x='term', hue='loan_status')\n",
    "ax.legend(labels=['Default', 'Non-Default'], title=\"Loan Status\")\n",
    "plt.show()"
   ]
  },
  {
   "cell_type": "code",
   "execution_count": 83,
   "metadata": {},
   "outputs": [
    {
     "data": {
      "text/plain": [
       "count    2.718623e+06\n",
       "mean     1.901565e+01\n",
       "std      1.303746e+01\n",
       "min     -1.000000e+00\n",
       "25%      1.205000e+01\n",
       "50%      1.800000e+01\n",
       "75%      2.470000e+01\n",
       "max      9.990000e+02\n",
       "Name: dti, dtype: float64"
      ]
     },
     "execution_count": 83,
     "metadata": {},
     "output_type": "execute_result"
    }
   ],
   "source": [
    "# Xem tứ phân vị (quantile)\n",
    "essential_df['dti'].describe()"
   ]
  },
  {
   "cell_type": "code",
   "execution_count": 85,
   "metadata": {},
   "outputs": [
    {
     "data": {
      "text/plain": [
       "0            (24.7, 999.0]\n",
       "1          (-1.001, 12.05]\n",
       "2          (-1.001, 12.05]\n",
       "3             (18.0, 24.7]\n",
       "4            (12.05, 18.0]\n",
       "                ...       \n",
       "2718618    (-1.001, 12.05]\n",
       "2718619       (18.0, 24.7]\n",
       "2718620       (18.0, 24.7]\n",
       "2718621       (18.0, 24.7]\n",
       "2718622      (24.7, 999.0]\n",
       "Name: dti, Length: 2718623, dtype: category\n",
       "Categories (4, interval[float64, right]): [(-1.001, 12.05] < (12.05, 18.0] < (18.0, 24.7] < (24.7, 999.0]]"
      ]
     },
     "execution_count": 85,
     "metadata": {},
     "output_type": "execute_result"
    }
   ],
   "source": [
    "pd.qcut(x=essential_df['dti'], q=4)"
   ]
  },
  {
   "cell_type": "code",
   "execution_count": 101,
   "metadata": {},
   "outputs": [
    {
     "data": {
      "text/plain": [
       "0          over 24\n",
       "1             0-12\n",
       "2             0-12\n",
       "3            18-24\n",
       "4            12-18\n",
       "            ...   \n",
       "2718618       0-12\n",
       "2718619      18-24\n",
       "2718620      18-24\n",
       "2718621      18-24\n",
       "2718622    over 24\n",
       "Name: dti, Length: 2718623, dtype: category\n",
       "Categories (4, object): ['0-12' < '12-18' < '18-24' < 'over 24']"
      ]
     },
     "execution_count": 101,
     "metadata": {},
     "output_type": "execute_result"
    }
   ],
   "source": [
    "dti_cat = ['0-12', '12-18', '18-24', 'over 24']\n",
    "dti_quantile_data = pd.qcut(x=essential_df['dti'], q=4, labels=dti_cat)\n",
    "dti_quantile_data"
   ]
  },
  {
   "cell_type": "code",
   "execution_count": 87,
   "metadata": {},
   "outputs": [
    {
     "data": {
      "image/png": "[encoded data removed]",
      "text/plain": [
       "<Figure size 720x576 with 1 Axes>"
      ]
     },
     "metadata": {
      "needs_background": "light"
     },
     "output_type": "display_data"
    }
   ],
   "source": [
    "fig = plt.figure(figsize=(10, 8))\n",
    "ax = sns.countplot(x=dti_quantile_data, hue=essential_df['loan_status'])\n",
    "ax.legend(labels=['Default', 'Non-Default'], title=\"Loan Status\")\n",
    "plt.show()"
   ]
  },
  {
   "cell_type": "code",
   "execution_count": 44,
   "metadata": {},
   "outputs": [
    {
     "data": {
      "text/plain": [
       "count    2.718623e+06\n",
       "mean     8.212958e+04\n",
       "std      1.133429e+05\n",
       "min      0.000000e+00\n",
       "25%      4.991600e+04\n",
       "50%      6.938900e+04\n",
       "75%      9.800000e+04\n",
       "max      1.100000e+08\n",
       "Name: annual_inc, dtype: float64"
      ]
     },
     "execution_count": 44,
     "metadata": {},
     "output_type": "execute_result"
    }
   ],
   "source": [
    "essential_df['annual_inc'].describe()"
   ]
  },
  {
   "cell_type": "code",
   "execution_count": 45,
   "metadata": {},
   "outputs": [
    {
     "data": {
      "text/plain": [
       "0              Low\n",
       "1              Low\n",
       "2              Low\n",
       "3              Low\n",
       "4             High\n",
       "            ...   \n",
       "2718618     Luxury\n",
       "2718619    Average\n",
       "2718620        Low\n",
       "2718621        Low\n",
       "2718622     Luxury\n",
       "Name: annual_inc, Length: 2718623, dtype: category\n",
       "Categories (4, object): ['Low' < 'Average' < 'High' < 'Luxury']"
      ]
     },
     "execution_count": 45,
     "metadata": {},
     "output_type": "execute_result"
    }
   ],
   "source": [
    "annual_cat = ['Low', 'Average', 'High', 'Luxury']\n",
    "anu_quantile_data = pd.qcut(x=essential_df['annual_inc'], q=4, labels=annual_cat)\n",
    "anu_quantile_data"
   ]
  },
  {
   "cell_type": "code",
   "execution_count": 46,
   "metadata": {},
   "outputs": [
    {
     "data": {
      "image/png": "[encoded data removed]",
      "text/plain": [
       "<Figure size 720x576 with 1 Axes>"
      ]
     },
     "metadata": {},
     "output_type": "display_data"
    }
   ],
   "source": [
    "fig = plt.figure(figsize=(10, 8))\n",
    "ax = sns.countplot(x=anu_quantile_data, hue=essential_df['loan_status'])\n",
    "ax.legend(labels=['Default', 'Non-Default'], title=\"Loan Status\")\n",
    "plt.show()"
   ]
  },
  {
   "cell_type": "code",
   "execution_count": 80,
   "metadata": {},
   "outputs": [
    {
     "data": {
      "image/png": "[encoded data removed]",
      "text/plain": [
       "<Figure size 720x576 with 1 Axes>"
      ]
     },
     "metadata": {
      "needs_background": "light"
     },
     "output_type": "display_data"
    }
   ],
   "source": [
    "fig = plt.figure(figsize=(10, 8))\n",
    "ax = sns.countplot(data=essential_df, x='emp_length', hue=essential_df['loan_status'])\n",
    "ax.legend(labels=['Default', 'Non-Default'], title=\"Loan Status\")\n",
    "plt.show()"
   ]
  },
  {
   "cell_type": "markdown",
   "metadata": {
    "tags": []
   },
   "source": [
    "## <span style=\"color: #79E0EE\">Prepare data</span>"
   ]
  },
  {
   "cell_type": "code",
   "execution_count": 47,
   "metadata": {},
   "outputs": [],
   "source": [
    "process_df = essential_df.drop(labels=['grade'], axis=1)"
   ]
  },
  {
   "cell_type": "code",
   "execution_count": 48,
   "metadata": {},
   "outputs": [],
   "source": [
    "# Tính số tháng giữa issue_d và earliest_cr_line\n",
    "process_df['months_cr_history'] = np.round((process_df['issue_d'] - process_df['earliest_cr_line'])/np.timedelta64(1, 'M'))\n",
    "process_df['months_cr_history'] = process_df['months_cr_history'].astype(int)"
   ]
  },
  {
   "cell_type": "code",
   "execution_count": 49,
   "metadata": {},
   "outputs": [
    {
     "data": {
      "text/plain": [
       "0          323\n",
       "1          152\n",
       "2          121\n",
       "3          190\n",
       "4          191\n",
       "          ... \n",
       "2718618    264\n",
       "2718619    283\n",
       "2718620    287\n",
       "2718621    323\n",
       "2718622    233\n",
       "Name: months_cr_history, Length: 2718623, dtype: int32"
      ]
     },
     "execution_count": 49,
     "metadata": {},
     "output_type": "execute_result"
    }
   ],
   "source": [
    "process_df['months_cr_history']"
   ]
  },
  {
   "cell_type": "code",
   "execution_count": 50,
   "metadata": {},
   "outputs": [],
   "source": [
    "process_df['application_type'] = process_df['application_type'].replace('Joint App', 'Joint_App')"
   ]
  },
  {
   "cell_type": "code",
   "execution_count": 51,
   "metadata": {},
   "outputs": [
    {
     "data": {
      "text/plain": [
       "['Individual', 'Joint_App']\n",
       "Categories (2, object): ['Individual', 'Joint_App']"
      ]
     },
     "execution_count": 51,
     "metadata": {},
     "output_type": "execute_result"
    }
   ],
   "source": [
    "process_df['application_type'].unique()"
   ]
  },
  {
   "cell_type": "code",
   "execution_count": 52,
   "metadata": {},
   "outputs": [],
   "source": [
    "process_df['term'] = process_df['term'].apply(lambda x: x.replace(' ', '_'))"
   ]
  },
  {
   "cell_type": "code",
   "execution_count": 53,
   "metadata": {},
   "outputs": [
    {
     "data": {
      "text/plain": [
       "['36_months', '60_months']\n",
       "Categories (2, object): ['36_months', '60_months']"
      ]
     },
     "execution_count": 53,
     "metadata": {},
     "output_type": "execute_result"
    }
   ],
   "source": [
    "process_df['term'].unique()"
   ]
  },
  {
   "cell_type": "code",
   "execution_count": 55,
   "metadata": {},
   "outputs": [
    {
     "data": {
      "text/plain": [
       "['36_months', '60_months']\n",
       "Categories (2, object): ['36_months', '60_months']"
      ]
     },
     "execution_count": 55,
     "metadata": {},
     "output_type": "execute_result"
    }
   ],
   "source": [
    "process_df['term'].unique()"
   ]
  },
  {
   "cell_type": "code",
   "execution_count": 56,
   "metadata": {},
   "outputs": [
    {
     "data": {
      "text/html": [
       "<div>\n",
       "<style scoped>\n",
       "    .dataframe tbody tr th:only-of-type {\n",
       "        vertical-align: middle;\n",
       "    }\n",
       "\n",
       "    .dataframe tbody tr th {\n",
       "        vertical-align: top;\n",
       "    }\n",
       "\n",
       "    .dataframe thead th {\n",
       "        text-align: right;\n",
       "    }\n",
       "</style>\n",
       "<table border=\"1\" class=\"dataframe\">\n",
       "  <thead>\n",
       "    <tr style=\"text-align: right;\">\n",
       "      <th></th>\n",
       "      <th>term_36_months</th>\n",
       "      <th>term_60_months</th>\n",
       "    </tr>\n",
       "  </thead>\n",
       "  <tbody>\n",
       "    <tr>\n",
       "      <th>0</th>\n",
       "      <td>1</td>\n",
       "      <td>0</td>\n",
       "    </tr>\n",
       "    <tr>\n",
       "      <th>1</th>\n",
       "      <td>0</td>\n",
       "      <td>1</td>\n",
       "    </tr>\n",
       "    <tr>\n",
       "      <th>2</th>\n",
       "      <td>1</td>\n",
       "      <td>0</td>\n",
       "    </tr>\n",
       "    <tr>\n",
       "      <th>3</th>\n",
       "      <td>1</td>\n",
       "      <td>0</td>\n",
       "    </tr>\n",
       "    <tr>\n",
       "      <th>4</th>\n",
       "      <td>0</td>\n",
       "      <td>1</td>\n",
       "    </tr>\n",
       "    <tr>\n",
       "      <th>...</th>\n",
       "      <td>...</td>\n",
       "      <td>...</td>\n",
       "    </tr>\n",
       "    <tr>\n",
       "      <th>2718618</th>\n",
       "      <td>0</td>\n",
       "      <td>1</td>\n",
       "    </tr>\n",
       "    <tr>\n",
       "      <th>2718619</th>\n",
       "      <td>1</td>\n",
       "      <td>0</td>\n",
       "    </tr>\n",
       "    <tr>\n",
       "      <th>2718620</th>\n",
       "      <td>1</td>\n",
       "      <td>0</td>\n",
       "    </tr>\n",
       "    <tr>\n",
       "      <th>2718621</th>\n",
       "      <td>1</td>\n",
       "      <td>0</td>\n",
       "    </tr>\n",
       "    <tr>\n",
       "      <th>2718622</th>\n",
       "      <td>0</td>\n",
       "      <td>1</td>\n",
       "    </tr>\n",
       "  </tbody>\n",
       "</table>\n",
       "<p>2718623 rows × 2 columns</p>\n",
       "</div>"
      ],
      "text/plain": [
       "         term_36_months  term_60_months\n",
       "0                     1               0\n",
       "1                     0               1\n",
       "2                     1               0\n",
       "3                     1               0\n",
       "4                     0               1\n",
       "...                 ...             ...\n",
       "2718618               0               1\n",
       "2718619               1               0\n",
       "2718620               1               0\n",
       "2718621               1               0\n",
       "2718622               0               1\n",
       "\n",
       "[2718623 rows x 2 columns]"
      ]
     },
     "execution_count": 56,
     "metadata": {},
     "output_type": "execute_result"
    }
   ],
   "source": [
    "# Tạo biến dummies của từng biến categorical: term, home_ownership, purpose, application_type\n",
    "term_dummy = pd.get_dummies(process_df['term'], prefix=\"term\")\n",
    "term_dummy"
   ]
  },
  {
   "cell_type": "code",
   "execution_count": 57,
   "metadata": {},
   "outputs": [],
   "source": [
    "dum_prefix = {\n",
    "    'term': 'term',\n",
    "    'home_ownership': 'home_ownership',\n",
    "    'purpose': 'purpose',\n",
    "    'application_type': 'app_type'\n",
    "}\n",
    "\n",
    "# pandas tự động remove các cột categorical sau khi tạo các cột dummies\n",
    "processed_df = pd.get_dummies(process_df, columns=list(dum_prefix.keys()), prefix=list(dum_prefix.values()))"
   ]
  },
  {
   "cell_type": "code",
   "execution_count": 58,
   "metadata": {},
   "outputs": [
    {
     "data": {
      "text/plain": [
       "Index(['loan_amnt', 'int_rate', 'emp_length', 'annual_inc', 'issue_d',\n",
       "       'loan_status', 'dti', 'earliest_cr_line', 'chargeoff_within_12_mths',\n",
       "       'pub_rec_bankruptcies', 'months_cr_history', 'term_36_months',\n",
       "       'term_60_months', 'home_ownership_ANY', 'home_ownership_MORTGAGE',\n",
       "       'home_ownership_NONE', 'home_ownership_OTHER', 'home_ownership_OWN',\n",
       "       'home_ownership_RENT', 'purpose_car', 'purpose_credit_card',\n",
       "       'purpose_debt_consolidation', 'purpose_educational',\n",
       "       'purpose_home_improvement', 'purpose_house', 'purpose_major_purchase',\n",
       "       'purpose_medical', 'purpose_moving', 'purpose_other',\n",
       "       'purpose_renewable_energy', 'purpose_small_business',\n",
       "       'purpose_vacation', 'purpose_wedding', 'app_type_Individual',\n",
       "       'app_type_Joint_App'],\n",
       "      dtype='object')"
      ]
     },
     "execution_count": 58,
     "metadata": {},
     "output_type": "execute_result"
    }
   ],
   "source": [
    "processed_df.columns"
   ]
  },
  {
   "cell_type": "code",
   "execution_count": 25,
   "metadata": {},
   "outputs": [],
   "source": [
    "processed_df.to_parquet(\"tmp/loan_status_processed_df.parquet\")"
   ]
  },
  {
   "cell_type": "code",
   "execution_count": 26,
   "metadata": {},
   "outputs": [],
   "source": [
    "del process_df, essential_df"
   ]
  },
  {
   "cell_type": "code",
   "execution_count": null,
   "metadata": {},
   "outputs": [],
   "source": [
    "# Just in case the memory is run out when trained model. We don't need to preprosess data again. Just reload it at here\n",
    "processed_df = pd.read_parquet(\"tmp/loan_status_processed_df.parquet\")\n",
    "processed_df"
   ]
  },
  {
   "cell_type": "markdown",
   "metadata": {
    "tags": []
   },
   "source": [
    "## <span style=\"color: #79E0EE\">Training Model by Machine Learning</span>"
   ]
  },
  {
   "cell_type": "code",
   "execution_count": 63,
   "metadata": {},
   "outputs": [],
   "source": [
    "from sklearn.model_selection import train_test_split\n",
    "from sklearn.metrics import roc_curve, roc_auc_score, confusion_matrix, classification_report, accuracy_score, recall_score, precision_score, f1_score"
   ]
  },
  {
   "cell_type": "code",
   "execution_count": 54,
   "metadata": {},
   "outputs": [],
   "source": [
    "X_features = processed_df.drop(['loan_status', 'issue_d', 'earliest_cr_line'], axis=1)\n",
    "y_target = processed_df['loan_status']"
   ]
  },
  {
   "cell_type": "code",
   "execution_count": 55,
   "metadata": {},
   "outputs": [
    {
     "data": {
      "text/html": [
       "<div>\n",
       "<style scoped>\n",
       "    .dataframe tbody tr th:only-of-type {\n",
       "        vertical-align: middle;\n",
       "    }\n",
       "\n",
       "    .dataframe tbody tr th {\n",
       "        vertical-align: top;\n",
       "    }\n",
       "\n",
       "    .dataframe thead th {\n",
       "        text-align: right;\n",
       "    }\n",
       "</style>\n",
       "<table border=\"1\" class=\"dataframe\">\n",
       "  <thead>\n",
       "    <tr style=\"text-align: right;\">\n",
       "      <th></th>\n",
       "      <th>loan_amnt</th>\n",
       "      <th>int_rate</th>\n",
       "      <th>emp_length</th>\n",
       "      <th>annual_inc</th>\n",
       "      <th>dti</th>\n",
       "      <th>chargeoff_within_12_mths</th>\n",
       "      <th>pub_rec_bankruptcies</th>\n",
       "      <th>months_cr_history</th>\n",
       "      <th>term_36_months</th>\n",
       "      <th>term_60_months</th>\n",
       "      <th>...</th>\n",
       "      <th>purpose_major_purchase</th>\n",
       "      <th>purpose_medical</th>\n",
       "      <th>purpose_moving</th>\n",
       "      <th>purpose_other</th>\n",
       "      <th>purpose_renewable_energy</th>\n",
       "      <th>purpose_small_business</th>\n",
       "      <th>purpose_vacation</th>\n",
       "      <th>purpose_wedding</th>\n",
       "      <th>app_type_Individual</th>\n",
       "      <th>app_type_Joint_App</th>\n",
       "    </tr>\n",
       "  </thead>\n",
       "  <tbody>\n",
       "    <tr>\n",
       "      <th>0</th>\n",
       "      <td>5000.0</td>\n",
       "      <td>10.65</td>\n",
       "      <td>10</td>\n",
       "      <td>24000.0</td>\n",
       "      <td>27.65</td>\n",
       "      <td>0.0</td>\n",
       "      <td>0.0</td>\n",
       "      <td>323</td>\n",
       "      <td>1</td>\n",
       "      <td>0</td>\n",
       "      <td>...</td>\n",
       "      <td>0</td>\n",
       "      <td>0</td>\n",
       "      <td>0</td>\n",
       "      <td>0</td>\n",
       "      <td>0</td>\n",
       "      <td>0</td>\n",
       "      <td>0</td>\n",
       "      <td>0</td>\n",
       "      <td>1</td>\n",
       "      <td>0</td>\n",
       "    </tr>\n",
       "    <tr>\n",
       "      <th>1</th>\n",
       "      <td>2500.0</td>\n",
       "      <td>15.27</td>\n",
       "      <td>0</td>\n",
       "      <td>30000.0</td>\n",
       "      <td>1.00</td>\n",
       "      <td>0.0</td>\n",
       "      <td>0.0</td>\n",
       "      <td>152</td>\n",
       "      <td>0</td>\n",
       "      <td>1</td>\n",
       "      <td>...</td>\n",
       "      <td>0</td>\n",
       "      <td>0</td>\n",
       "      <td>0</td>\n",
       "      <td>0</td>\n",
       "      <td>0</td>\n",
       "      <td>0</td>\n",
       "      <td>0</td>\n",
       "      <td>0</td>\n",
       "      <td>1</td>\n",
       "      <td>0</td>\n",
       "    </tr>\n",
       "    <tr>\n",
       "      <th>2</th>\n",
       "      <td>2400.0</td>\n",
       "      <td>15.96</td>\n",
       "      <td>10</td>\n",
       "      <td>12252.0</td>\n",
       "      <td>8.72</td>\n",
       "      <td>0.0</td>\n",
       "      <td>0.0</td>\n",
       "      <td>121</td>\n",
       "      <td>1</td>\n",
       "      <td>0</td>\n",
       "      <td>...</td>\n",
       "      <td>0</td>\n",
       "      <td>0</td>\n",
       "      <td>0</td>\n",
       "      <td>0</td>\n",
       "      <td>0</td>\n",
       "      <td>1</td>\n",
       "      <td>0</td>\n",
       "      <td>0</td>\n",
       "      <td>1</td>\n",
       "      <td>0</td>\n",
       "    </tr>\n",
       "    <tr>\n",
       "      <th>3</th>\n",
       "      <td>10000.0</td>\n",
       "      <td>13.49</td>\n",
       "      <td>10</td>\n",
       "      <td>49200.0</td>\n",
       "      <td>20.00</td>\n",
       "      <td>0.0</td>\n",
       "      <td>0.0</td>\n",
       "      <td>190</td>\n",
       "      <td>1</td>\n",
       "      <td>0</td>\n",
       "      <td>...</td>\n",
       "      <td>0</td>\n",
       "      <td>0</td>\n",
       "      <td>0</td>\n",
       "      <td>1</td>\n",
       "      <td>0</td>\n",
       "      <td>0</td>\n",
       "      <td>0</td>\n",
       "      <td>0</td>\n",
       "      <td>1</td>\n",
       "      <td>0</td>\n",
       "    </tr>\n",
       "    <tr>\n",
       "      <th>4</th>\n",
       "      <td>3000.0</td>\n",
       "      <td>12.69</td>\n",
       "      <td>1</td>\n",
       "      <td>80000.0</td>\n",
       "      <td>17.94</td>\n",
       "      <td>0.0</td>\n",
       "      <td>0.0</td>\n",
       "      <td>191</td>\n",
       "      <td>0</td>\n",
       "      <td>1</td>\n",
       "      <td>...</td>\n",
       "      <td>0</td>\n",
       "      <td>0</td>\n",
       "      <td>0</td>\n",
       "      <td>1</td>\n",
       "      <td>0</td>\n",
       "      <td>0</td>\n",
       "      <td>0</td>\n",
       "      <td>0</td>\n",
       "      <td>1</td>\n",
       "      <td>0</td>\n",
       "    </tr>\n",
       "    <tr>\n",
       "      <th>...</th>\n",
       "      <td>...</td>\n",
       "      <td>...</td>\n",
       "      <td>...</td>\n",
       "      <td>...</td>\n",
       "      <td>...</td>\n",
       "      <td>...</td>\n",
       "      <td>...</td>\n",
       "      <td>...</td>\n",
       "      <td>...</td>\n",
       "      <td>...</td>\n",
       "      <td>...</td>\n",
       "      <td>...</td>\n",
       "      <td>...</td>\n",
       "      <td>...</td>\n",
       "      <td>...</td>\n",
       "      <td>...</td>\n",
       "      <td>...</td>\n",
       "      <td>...</td>\n",
       "      <td>...</td>\n",
       "      <td>...</td>\n",
       "      <td>...</td>\n",
       "    </tr>\n",
       "    <tr>\n",
       "      <th>2718618</th>\n",
       "      <td>24000.0</td>\n",
       "      <td>23.99</td>\n",
       "      <td>0</td>\n",
       "      <td>107000.0</td>\n",
       "      <td>11.65</td>\n",
       "      <td>1.0</td>\n",
       "      <td>1.0</td>\n",
       "      <td>264</td>\n",
       "      <td>0</td>\n",
       "      <td>1</td>\n",
       "      <td>...</td>\n",
       "      <td>0</td>\n",
       "      <td>0</td>\n",
       "      <td>0</td>\n",
       "      <td>1</td>\n",
       "      <td>0</td>\n",
       "      <td>0</td>\n",
       "      <td>0</td>\n",
       "      <td>0</td>\n",
       "      <td>1</td>\n",
       "      <td>0</td>\n",
       "    </tr>\n",
       "    <tr>\n",
       "      <th>2718619</th>\n",
       "      <td>10000.0</td>\n",
       "      <td>7.99</td>\n",
       "      <td>10</td>\n",
       "      <td>65000.0</td>\n",
       "      <td>19.55</td>\n",
       "      <td>0.0</td>\n",
       "      <td>0.0</td>\n",
       "      <td>283</td>\n",
       "      <td>1</td>\n",
       "      <td>0</td>\n",
       "      <td>...</td>\n",
       "      <td>0</td>\n",
       "      <td>0</td>\n",
       "      <td>0</td>\n",
       "      <td>0</td>\n",
       "      <td>0</td>\n",
       "      <td>0</td>\n",
       "      <td>0</td>\n",
       "      <td>0</td>\n",
       "      <td>1</td>\n",
       "      <td>0</td>\n",
       "    </tr>\n",
       "    <tr>\n",
       "      <th>2718620</th>\n",
       "      <td>10050.0</td>\n",
       "      <td>16.99</td>\n",
       "      <td>8</td>\n",
       "      <td>37000.0</td>\n",
       "      <td>20.56</td>\n",
       "      <td>0.0</td>\n",
       "      <td>0.0</td>\n",
       "      <td>287</td>\n",
       "      <td>1</td>\n",
       "      <td>0</td>\n",
       "      <td>...</td>\n",
       "      <td>0</td>\n",
       "      <td>0</td>\n",
       "      <td>0</td>\n",
       "      <td>0</td>\n",
       "      <td>0</td>\n",
       "      <td>0</td>\n",
       "      <td>0</td>\n",
       "      <td>0</td>\n",
       "      <td>1</td>\n",
       "      <td>0</td>\n",
       "    </tr>\n",
       "    <tr>\n",
       "      <th>2718621</th>\n",
       "      <td>6000.0</td>\n",
       "      <td>11.44</td>\n",
       "      <td>5</td>\n",
       "      <td>41000.0</td>\n",
       "      <td>19.99</td>\n",
       "      <td>0.0</td>\n",
       "      <td>0.0</td>\n",
       "      <td>323</td>\n",
       "      <td>1</td>\n",
       "      <td>0</td>\n",
       "      <td>...</td>\n",
       "      <td>0</td>\n",
       "      <td>0</td>\n",
       "      <td>0</td>\n",
       "      <td>0</td>\n",
       "      <td>0</td>\n",
       "      <td>0</td>\n",
       "      <td>0</td>\n",
       "      <td>0</td>\n",
       "      <td>1</td>\n",
       "      <td>0</td>\n",
       "    </tr>\n",
       "    <tr>\n",
       "      <th>2718622</th>\n",
       "      <td>30000.0</td>\n",
       "      <td>25.49</td>\n",
       "      <td>4</td>\n",
       "      <td>105700.0</td>\n",
       "      <td>27.26</td>\n",
       "      <td>0.0</td>\n",
       "      <td>0.0</td>\n",
       "      <td>233</td>\n",
       "      <td>0</td>\n",
       "      <td>1</td>\n",
       "      <td>...</td>\n",
       "      <td>0</td>\n",
       "      <td>0</td>\n",
       "      <td>0</td>\n",
       "      <td>0</td>\n",
       "      <td>0</td>\n",
       "      <td>0</td>\n",
       "      <td>0</td>\n",
       "      <td>0</td>\n",
       "      <td>1</td>\n",
       "      <td>0</td>\n",
       "    </tr>\n",
       "  </tbody>\n",
       "</table>\n",
       "<p>2718623 rows × 32 columns</p>\n",
       "</div>"
      ],
      "text/plain": [
       "         loan_amnt  int_rate  emp_length  annual_inc    dti  \\\n",
       "0           5000.0     10.65          10     24000.0  27.65   \n",
       "1           2500.0     15.27           0     30000.0   1.00   \n",
       "2           2400.0     15.96          10     12252.0   8.72   \n",
       "3          10000.0     13.49          10     49200.0  20.00   \n",
       "4           3000.0     12.69           1     80000.0  17.94   \n",
       "...            ...       ...         ...         ...    ...   \n",
       "2718618    24000.0     23.99           0    107000.0  11.65   \n",
       "2718619    10000.0      7.99          10     65000.0  19.55   \n",
       "2718620    10050.0     16.99           8     37000.0  20.56   \n",
       "2718621     6000.0     11.44           5     41000.0  19.99   \n",
       "2718622    30000.0     25.49           4    105700.0  27.26   \n",
       "\n",
       "         chargeoff_within_12_mths  pub_rec_bankruptcies  months_cr_history  \\\n",
       "0                             0.0                   0.0                323   \n",
       "1                             0.0                   0.0                152   \n",
       "2                             0.0                   0.0                121   \n",
       "3                             0.0                   0.0                190   \n",
       "4                             0.0                   0.0                191   \n",
       "...                           ...                   ...                ...   \n",
       "2718618                       1.0                   1.0                264   \n",
       "2718619                       0.0                   0.0                283   \n",
       "2718620                       0.0                   0.0                287   \n",
       "2718621                       0.0                   0.0                323   \n",
       "2718622                       0.0                   0.0                233   \n",
       "\n",
       "         term_36_months  term_60_months  ...  purpose_major_purchase  \\\n",
       "0                     1               0  ...                       0   \n",
       "1                     0               1  ...                       0   \n",
       "2                     1               0  ...                       0   \n",
       "3                     1               0  ...                       0   \n",
       "4                     0               1  ...                       0   \n",
       "...                 ...             ...  ...                     ...   \n",
       "2718618               0               1  ...                       0   \n",
       "2718619               1               0  ...                       0   \n",
       "2718620               1               0  ...                       0   \n",
       "2718621               1               0  ...                       0   \n",
       "2718622               0               1  ...                       0   \n",
       "\n",
       "         purpose_medical  purpose_moving  purpose_other  \\\n",
       "0                      0               0              0   \n",
       "1                      0               0              0   \n",
       "2                      0               0              0   \n",
       "3                      0               0              1   \n",
       "4                      0               0              1   \n",
       "...                  ...             ...            ...   \n",
       "2718618                0               0              1   \n",
       "2718619                0               0              0   \n",
       "2718620                0               0              0   \n",
       "2718621                0               0              0   \n",
       "2718622                0               0              0   \n",
       "\n",
       "         purpose_renewable_energy  purpose_small_business  purpose_vacation  \\\n",
       "0                               0                       0                 0   \n",
       "1                               0                       0                 0   \n",
       "2                               0                       1                 0   \n",
       "3                               0                       0                 0   \n",
       "4                               0                       0                 0   \n",
       "...                           ...                     ...               ...   \n",
       "2718618                         0                       0                 0   \n",
       "2718619                         0                       0                 0   \n",
       "2718620                         0                       0                 0   \n",
       "2718621                         0                       0                 0   \n",
       "2718622                         0                       0                 0   \n",
       "\n",
       "         purpose_wedding  app_type_Individual  app_type_Joint_App  \n",
       "0                      0                    1                   0  \n",
       "1                      0                    1                   0  \n",
       "2                      0                    1                   0  \n",
       "3                      0                    1                   0  \n",
       "4                      0                    1                   0  \n",
       "...                  ...                  ...                 ...  \n",
       "2718618                0                    1                   0  \n",
       "2718619                0                    1                   0  \n",
       "2718620                0                    1                   0  \n",
       "2718621                0                    1                   0  \n",
       "2718622                0                    1                   0  \n",
       "\n",
       "[2718623 rows x 32 columns]"
      ]
     },
     "execution_count": 55,
     "metadata": {},
     "output_type": "execute_result"
    }
   ],
   "source": [
    "X_features"
   ]
  },
  {
   "cell_type": "code",
   "execution_count": 56,
   "metadata": {},
   "outputs": [
    {
     "data": {
      "text/plain": [
       "0          0\n",
       "1          1\n",
       "2          0\n",
       "3          0\n",
       "4          0\n",
       "          ..\n",
       "2718618    1\n",
       "2718619    0\n",
       "2718620    1\n",
       "2718621    0\n",
       "2718622    1\n",
       "Name: loan_status, Length: 2718623, dtype: int64"
      ]
     },
     "execution_count": 56,
     "metadata": {},
     "output_type": "execute_result"
    }
   ],
   "source": [
    "y_target"
   ]
  },
  {
   "cell_type": "code",
   "execution_count": 59,
   "metadata": {},
   "outputs": [],
   "source": [
    "X_train, X_test, y_train, y_test = train_test_split(X_features, y_target, test_size=0.3, random_state=2412)"
   ]
  },
  {
   "cell_type": "code",
   "execution_count": 32,
   "metadata": {},
   "outputs": [],
   "source": [
    "del X_features, y_target, processed_df"
   ]
  },
  {
   "cell_type": "code",
   "execution_count": 33,
   "metadata": {},
   "outputs": [
    {
     "data": {
      "text/plain": [
       "0    1651604\n",
       "1     251432\n",
       "Name: loan_status, dtype: int64"
      ]
     },
     "execution_count": 33,
     "metadata": {},
     "output_type": "execute_result"
    }
   ],
   "source": [
    "y_train.value_counts()"
   ]
  },
  {
   "cell_type": "markdown",
   "metadata": {},
   "source": [
    "### <span style=\"color: #79E0EE\">Imbalance Data</span>\n",
    "- Mất cân bằng dữ liệu là một trong những hiện tượng phổ biến của bài toán phân loại nhị phân (binary classification) như spam email, phát hiện gian lận, dự báo vỡ nợ, chuẩn đoán bệnh lý,…. Trong trường hợp tỷ lệ dữ liệu giữa 2 classes là 50:50 thì được coi là cân bằng. Khi có sự khác biệt trong phân phối giữa 2 classes, chẳng hạn 60:40 thì dữ liệu có hiện tượng mất cân bằng.\n",
    "\n",
    "- Hầu hết các bộ dữ liệu đều khó đạt được trạng thái cân bằng mà luôn có sự khác biệt về tỷ lệ giữa 2 classes\n",
    "\n",
    "#### Undersampling\n",
    "- Undersampling là việc ta giảm số lượng các quan sát của nhóm đa số (majority) để nó trở nên cân bằng với số quan sát của nhóm thiểu số. Ưu điểm của under sampling là làm cân bằng mẫu một cách nhanh chóng, dễ dàng tiến hành thực hiện mà không cần đến thuật toán giả lập mẫu.\n",
    "\n",
    "- Tuy nhiên nhược điểm của nó là kích thước mẫu sẽ bị giảm đáng kể\n",
    "\n",
    "#### Oversampling\n",
    "Oversampling là các phương pháp giúp giải quyết hiện tượng mất cân bằng mẫu bằng cách gia tăng kích thước mẫu thuộc nhóm thiểu số (minority)\n",
    "\n",
    "Tham khảo: https://phamdinhkhanh.github.io/2020/02/17/ImbalancedData.html"
   ]
  },
  {
   "cell_type": "markdown",
   "metadata": {},
   "source": [
    "### <span style=\"color: #79E0EE\">Oversampling</span>"
   ]
  },
  {
   "cell_type": "code",
   "execution_count": 34,
   "metadata": {},
   "outputs": [],
   "source": [
    "from imblearn.over_sampling import SMOTE\n",
    "\n",
    "# minority: thiểu số\n",
    "smote = SMOTE(sampling_strategy=\"minority\", random_state=81)\n",
    "X_train_resampled, y_train_resampled = smote.fit_resample(X_train, y_train)"
   ]
  },
  {
   "cell_type": "code",
   "execution_count": 35,
   "metadata": {},
   "outputs": [],
   "source": [
    "del X_train, y_train"
   ]
  },
  {
   "cell_type": "code",
   "execution_count": 67,
   "metadata": {},
   "outputs": [
    {
     "data": {
      "text/plain": [
       "1    1651604\n",
       "0    1651604\n",
       "Name: loan_status, dtype: int64"
      ]
     },
     "execution_count": 67,
     "metadata": {},
     "output_type": "execute_result"
    }
   ],
   "source": [
    "y_train_resampled.value_counts()"
   ]
  },
  {
   "cell_type": "markdown",
   "metadata": {},
   "source": [
    "### <span style=\"color: #79E0EE\">Logistic Regression</span>"
   ]
  },
  {
   "cell_type": "code",
   "execution_count": 37,
   "metadata": {},
   "outputs": [],
   "source": [
    "from sklearn.linear_model import LogisticRegression"
   ]
  },
  {
   "cell_type": "code",
   "execution_count": 38,
   "metadata": {},
   "outputs": [
    {
     "data": {
      "text/html": [
       "<style>#sk-container-id-1 {color: black;background-color: white;}#sk-container-id-1 pre{padding: 0;}#sk-container-id-1 div.sk-toggleable {background-color: white;}#sk-container-id-1 label.sk-toggleable__label {cursor: pointer;display: block;width: 100%;margin-bottom: 0;padding: 0.3em;box-sizing: border-box;text-align: center;}#sk-container-id-1 label.sk-toggleable__label-arrow:before {content: \"▸\";float: left;margin-right: 0.25em;color: #696969;}#sk-container-id-1 label.sk-toggleable__label-arrow:hover:before {color: black;}#sk-container-id-1 div.sk-estimator:hover label.sk-toggleable__label-arrow:before {color: black;}#sk-container-id-1 div.sk-toggleable__content {max-height: 0;max-width: 0;overflow: hidden;text-align: left;background-color: #f0f8ff;}#sk-container-id-1 div.sk-toggleable__content pre {margin: 0.2em;color: black;border-radius: 0.25em;background-color: #f0f8ff;}#sk-container-id-1 input.sk-toggleable__control:checked~div.sk-toggleable__content {max-height: 200px;max-width: 100%;overflow: auto;}#sk-container-id-1 input.sk-toggleable__control:checked~label.sk-toggleable__label-arrow:before {content: \"▾\";}#sk-container-id-1 div.sk-estimator input.sk-toggleable__control:checked~label.sk-toggleable__label {background-color: #d4ebff;}#sk-container-id-1 div.sk-label input.sk-toggleable__control:checked~label.sk-toggleable__label {background-color: #d4ebff;}#sk-container-id-1 input.sk-hidden--visually {border: 0;clip: rect(1px 1px 1px 1px);clip: rect(1px, 1px, 1px, 1px);height: 1px;margin: -1px;overflow: hidden;padding: 0;position: absolute;width: 1px;}#sk-container-id-1 div.sk-estimator {font-family: monospace;background-color: #f0f8ff;border: 1px dotted black;border-radius: 0.25em;box-sizing: border-box;margin-bottom: 0.5em;}#sk-container-id-1 div.sk-estimator:hover {background-color: #d4ebff;}#sk-container-id-1 div.sk-parallel-item::after {content: \"\";width: 100%;border-bottom: 1px solid gray;flex-grow: 1;}#sk-container-id-1 div.sk-label:hover label.sk-toggleable__label {background-color: #d4ebff;}#sk-container-id-1 div.sk-serial::before {content: \"\";position: absolute;border-left: 1px solid gray;box-sizing: border-box;top: 0;bottom: 0;left: 50%;z-index: 0;}#sk-container-id-1 div.sk-serial {display: flex;flex-direction: column;align-items: center;background-color: white;padding-right: 0.2em;padding-left: 0.2em;position: relative;}#sk-container-id-1 div.sk-item {position: relative;z-index: 1;}#sk-container-id-1 div.sk-parallel {display: flex;align-items: stretch;justify-content: center;background-color: white;position: relative;}#sk-container-id-1 div.sk-item::before, #sk-container-id-1 div.sk-parallel-item::before {content: \"\";position: absolute;border-left: 1px solid gray;box-sizing: border-box;top: 0;bottom: 0;left: 50%;z-index: -1;}#sk-container-id-1 div.sk-parallel-item {display: flex;flex-direction: column;z-index: 1;position: relative;background-color: white;}#sk-container-id-1 div.sk-parallel-item:first-child::after {align-self: flex-end;width: 50%;}#sk-container-id-1 div.sk-parallel-item:last-child::after {align-self: flex-start;width: 50%;}#sk-container-id-1 div.sk-parallel-item:only-child::after {width: 0;}#sk-container-id-1 div.sk-dashed-wrapped {border: 1px dashed gray;margin: 0 0.4em 0.5em 0.4em;box-sizing: border-box;padding-bottom: 0.4em;background-color: white;}#sk-container-id-1 div.sk-label label {font-family: monospace;font-weight: bold;display: inline-block;line-height: 1.2em;}#sk-container-id-1 div.sk-label-container {text-align: center;}#sk-container-id-1 div.sk-container {/* jupyter's `normalize.less` sets `[hidden] { display: none; }` but bootstrap.min.css set `[hidden] { display: none !important; }` so we also need the `!important` here to be able to override the default hidden behavior on the sphinx rendered scikit-learn.org. See: https://github.com/scikit-learn/scikit-learn/issues/21755 */display: inline-block !important;position: relative;}#sk-container-id-1 div.sk-text-repr-fallback {display: none;}</style><div id=\"sk-container-id-1\" class=\"sk-top-container\"><div class=\"sk-text-repr-fallback\"><pre>LogisticRegression()</pre><b>In a Jupyter environment, please rerun this cell to show the HTML representation or trust the notebook. <br />On GitHub, the HTML representation is unable to render, please try loading this page with nbviewer.org.</b></div><div class=\"sk-container\" hidden><div class=\"sk-item\"><div class=\"sk-estimator sk-toggleable\"><input class=\"sk-toggleable__control sk-hidden--visually\" id=\"sk-estimator-id-1\" type=\"checkbox\" checked><label for=\"sk-estimator-id-1\" class=\"sk-toggleable__label sk-toggleable__label-arrow\">LogisticRegression</label><div class=\"sk-toggleable__content\"><pre>LogisticRegression()</pre></div></div></div></div></div>"
      ],
      "text/plain": [
       "LogisticRegression()"
      ]
     },
     "execution_count": 38,
     "metadata": {},
     "output_type": "execute_result"
    }
   ],
   "source": [
    "lr_model = LogisticRegression()\n",
    "lr_model.fit(X_train_resampled, y_train_resampled)"
   ]
  },
  {
   "cell_type": "code",
   "execution_count": 44,
   "metadata": {},
   "outputs": [
    {
     "data": {
      "text/plain": [
       "array([1, 0, 0, ..., 0, 0, 0], dtype=int64)"
      ]
     },
     "execution_count": 44,
     "metadata": {},
     "output_type": "execute_result"
    }
   ],
   "source": [
    "lr_y_preds = lr_model.predict(X_test)\n",
    "lr_y_preds"
   ]
  },
  {
   "cell_type": "code",
   "execution_count": 45,
   "metadata": {},
   "outputs": [
    {
     "data": {
      "text/plain": [
       "array([[0.2520305 , 0.7479695 ],\n",
       "       [0.53938634, 0.46061366],\n",
       "       [0.59622802, 0.40377198],\n",
       "       ...,\n",
       "       [0.57644955, 0.42355045],\n",
       "       [0.6463713 , 0.3536287 ],\n",
       "       [0.59676406, 0.40323594]])"
      ]
     },
     "execution_count": 45,
     "metadata": {},
     "output_type": "execute_result"
    }
   ],
   "source": [
    "lr_y_proba_preds = lr_model.predict_proba(X_test)\n",
    "lr_y_proba_preds # [0;1] hoặc ['Non-Default'; 'Default']"
   ]
  },
  {
   "cell_type": "code",
   "execution_count": 46,
   "metadata": {},
   "outputs": [
    {
     "data": {
      "text/plain": [
       "array([0.7479695 , 0.46061366, 0.40377198, ..., 0.42355045, 0.3536287 ,\n",
       "       0.40323594])"
      ]
     },
     "execution_count": 46,
     "metadata": {},
     "output_type": "execute_result"
    }
   ],
   "source": [
    "# Dòng: lấy tất cả; Cột: lấy cột có index = 1 (Lấy dữ liệu là toàn bộ giá trị ở cột 1)\n",
    "lr_y_proba_preds[:,1]"
   ]
  },
  {
   "cell_type": "code",
   "execution_count": 65,
   "metadata": {},
   "outputs": [
    {
     "data": {
      "text/html": [
       "<div>\n",
       "<style scoped>\n",
       "    .dataframe tbody tr th:only-of-type {\n",
       "        vertical-align: middle;\n",
       "    }\n",
       "\n",
       "    .dataframe tbody tr th {\n",
       "        vertical-align: top;\n",
       "    }\n",
       "\n",
       "    .dataframe thead th {\n",
       "        text-align: right;\n",
       "    }\n",
       "</style>\n",
       "<table border=\"1\" class=\"dataframe\">\n",
       "  <thead>\n",
       "    <tr style=\"text-align: right;\">\n",
       "      <th></th>\n",
       "      <th>loan_status</th>\n",
       "      <th>lr_pred</th>\n",
       "      <th>lr_pred_proba</th>\n",
       "    </tr>\n",
       "  </thead>\n",
       "  <tbody>\n",
       "    <tr>\n",
       "      <th>0</th>\n",
       "      <td>0</td>\n",
       "      <td>1</td>\n",
       "      <td>0.747969</td>\n",
       "    </tr>\n",
       "    <tr>\n",
       "      <th>1</th>\n",
       "      <td>1</td>\n",
       "      <td>0</td>\n",
       "      <td>0.460614</td>\n",
       "    </tr>\n",
       "    <tr>\n",
       "      <th>2</th>\n",
       "      <td>1</td>\n",
       "      <td>0</td>\n",
       "      <td>0.403772</td>\n",
       "    </tr>\n",
       "    <tr>\n",
       "      <th>3</th>\n",
       "      <td>0</td>\n",
       "      <td>1</td>\n",
       "      <td>0.556681</td>\n",
       "    </tr>\n",
       "    <tr>\n",
       "      <th>4</th>\n",
       "      <td>0</td>\n",
       "      <td>0</td>\n",
       "      <td>0.332546</td>\n",
       "    </tr>\n",
       "    <tr>\n",
       "      <th>...</th>\n",
       "      <td>...</td>\n",
       "      <td>...</td>\n",
       "      <td>...</td>\n",
       "    </tr>\n",
       "    <tr>\n",
       "      <th>815582</th>\n",
       "      <td>0</td>\n",
       "      <td>1</td>\n",
       "      <td>0.577449</td>\n",
       "    </tr>\n",
       "    <tr>\n",
       "      <th>815583</th>\n",
       "      <td>0</td>\n",
       "      <td>1</td>\n",
       "      <td>0.502695</td>\n",
       "    </tr>\n",
       "    <tr>\n",
       "      <th>815584</th>\n",
       "      <td>0</td>\n",
       "      <td>0</td>\n",
       "      <td>0.423550</td>\n",
       "    </tr>\n",
       "    <tr>\n",
       "      <th>815585</th>\n",
       "      <td>0</td>\n",
       "      <td>0</td>\n",
       "      <td>0.353629</td>\n",
       "    </tr>\n",
       "    <tr>\n",
       "      <th>815586</th>\n",
       "      <td>0</td>\n",
       "      <td>0</td>\n",
       "      <td>0.403236</td>\n",
       "    </tr>\n",
       "  </tbody>\n",
       "</table>\n",
       "<p>815587 rows × 3 columns</p>\n",
       "</div>"
      ],
      "text/plain": [
       "        loan_status  lr_pred  lr_pred_proba\n",
       "0                 0        1       0.747969\n",
       "1                 1        0       0.460614\n",
       "2                 1        0       0.403772\n",
       "3                 0        1       0.556681\n",
       "4                 0        0       0.332546\n",
       "...             ...      ...            ...\n",
       "815582            0        1       0.577449\n",
       "815583            0        1       0.502695\n",
       "815584            0        0       0.423550\n",
       "815585            0        0       0.353629\n",
       "815586            0        0       0.403236\n",
       "\n",
       "[815587 rows x 3 columns]"
      ]
     },
     "execution_count": 65,
     "metadata": {},
     "output_type": "execute_result"
    }
   ],
   "source": [
    "results_df = pd.concat([\n",
    "        pd.DataFrame(y_test.reset_index(drop=True)),\n",
    "        pd.DataFrame(lr_y_preds, columns=['lr_pred']),\n",
    "        pd.DataFrame(lr_y_proba_preds[:,1], columns=['lr_pred_proba'])\n",
    "    ], axis=1)\n",
    "\n",
    "results_df"
   ]
  },
  {
   "cell_type": "code",
   "execution_count": 35,
   "metadata": {},
   "outputs": [],
   "source": [
    "results_df.to_parquet(\"tmp/data_result.parquet\")"
   ]
  },
  {
   "cell_type": "code",
   "execution_count": 37,
   "metadata": {},
   "outputs": [],
   "source": [
    "del lr_model"
   ]
  },
  {
   "cell_type": "markdown",
   "metadata": {},
   "source": [
    "### <span style=\"color: #79E0EE\">Random Forest Classifier</span>"
   ]
  },
  {
   "cell_type": "code",
   "execution_count": 38,
   "metadata": {},
   "outputs": [],
   "source": [
    "from sklearn.ensemble import RandomForestClassifier\n",
    "from sklearn.model_selection import GridSearchCV"
   ]
  },
  {
   "cell_type": "code",
   "execution_count": 39,
   "metadata": {},
   "outputs": [
    {
     "data": {
      "text/html": [
       "<style>#sk-container-id-2 {color: black;background-color: white;}#sk-container-id-2 pre{padding: 0;}#sk-container-id-2 div.sk-toggleable {background-color: white;}#sk-container-id-2 label.sk-toggleable__label {cursor: pointer;display: block;width: 100%;margin-bottom: 0;padding: 0.3em;box-sizing: border-box;text-align: center;}#sk-container-id-2 label.sk-toggleable__label-arrow:before {content: \"▸\";float: left;margin-right: 0.25em;color: #696969;}#sk-container-id-2 label.sk-toggleable__label-arrow:hover:before {color: black;}#sk-container-id-2 div.sk-estimator:hover label.sk-toggleable__label-arrow:before {color: black;}#sk-container-id-2 div.sk-toggleable__content {max-height: 0;max-width: 0;overflow: hidden;text-align: left;background-color: #f0f8ff;}#sk-container-id-2 div.sk-toggleable__content pre {margin: 0.2em;color: black;border-radius: 0.25em;background-color: #f0f8ff;}#sk-container-id-2 input.sk-toggleable__control:checked~div.sk-toggleable__content {max-height: 200px;max-width: 100%;overflow: auto;}#sk-container-id-2 input.sk-toggleable__control:checked~label.sk-toggleable__label-arrow:before {content: \"▾\";}#sk-container-id-2 div.sk-estimator input.sk-toggleable__control:checked~label.sk-toggleable__label {background-color: #d4ebff;}#sk-container-id-2 div.sk-label input.sk-toggleable__control:checked~label.sk-toggleable__label {background-color: #d4ebff;}#sk-container-id-2 input.sk-hidden--visually {border: 0;clip: rect(1px 1px 1px 1px);clip: rect(1px, 1px, 1px, 1px);height: 1px;margin: -1px;overflow: hidden;padding: 0;position: absolute;width: 1px;}#sk-container-id-2 div.sk-estimator {font-family: monospace;background-color: #f0f8ff;border: 1px dotted black;border-radius: 0.25em;box-sizing: border-box;margin-bottom: 0.5em;}#sk-container-id-2 div.sk-estimator:hover {background-color: #d4ebff;}#sk-container-id-2 div.sk-parallel-item::after {content: \"\";width: 100%;border-bottom: 1px solid gray;flex-grow: 1;}#sk-container-id-2 div.sk-label:hover label.sk-toggleable__label {background-color: #d4ebff;}#sk-container-id-2 div.sk-serial::before {content: \"\";position: absolute;border-left: 1px solid gray;box-sizing: border-box;top: 0;bottom: 0;left: 50%;z-index: 0;}#sk-container-id-2 div.sk-serial {display: flex;flex-direction: column;align-items: center;background-color: white;padding-right: 0.2em;padding-left: 0.2em;position: relative;}#sk-container-id-2 div.sk-item {position: relative;z-index: 1;}#sk-container-id-2 div.sk-parallel {display: flex;align-items: stretch;justify-content: center;background-color: white;position: relative;}#sk-container-id-2 div.sk-item::before, #sk-container-id-2 div.sk-parallel-item::before {content: \"\";position: absolute;border-left: 1px solid gray;box-sizing: border-box;top: 0;bottom: 0;left: 50%;z-index: -1;}#sk-container-id-2 div.sk-parallel-item {display: flex;flex-direction: column;z-index: 1;position: relative;background-color: white;}#sk-container-id-2 div.sk-parallel-item:first-child::after {align-self: flex-end;width: 50%;}#sk-container-id-2 div.sk-parallel-item:last-child::after {align-self: flex-start;width: 50%;}#sk-container-id-2 div.sk-parallel-item:only-child::after {width: 0;}#sk-container-id-2 div.sk-dashed-wrapped {border: 1px dashed gray;margin: 0 0.4em 0.5em 0.4em;box-sizing: border-box;padding-bottom: 0.4em;background-color: white;}#sk-container-id-2 div.sk-label label {font-family: monospace;font-weight: bold;display: inline-block;line-height: 1.2em;}#sk-container-id-2 div.sk-label-container {text-align: center;}#sk-container-id-2 div.sk-container {/* jupyter's `normalize.less` sets `[hidden] { display: none; }` but bootstrap.min.css set `[hidden] { display: none !important; }` so we also need the `!important` here to be able to override the default hidden behavior on the sphinx rendered scikit-learn.org. See: https://github.com/scikit-learn/scikit-learn/issues/21755 */display: inline-block !important;position: relative;}#sk-container-id-2 div.sk-text-repr-fallback {display: none;}</style><div id=\"sk-container-id-2\" class=\"sk-top-container\"><div class=\"sk-text-repr-fallback\"><pre>RandomForestClassifier(random_state=1000)</pre><b>In a Jupyter environment, please rerun this cell to show the HTML representation or trust the notebook. <br />On GitHub, the HTML representation is unable to render, please try loading this page with nbviewer.org.</b></div><div class=\"sk-container\" hidden><div class=\"sk-item\"><div class=\"sk-estimator sk-toggleable\"><input class=\"sk-toggleable__control sk-hidden--visually\" id=\"sk-estimator-id-2\" type=\"checkbox\" checked><label for=\"sk-estimator-id-2\" class=\"sk-toggleable__label sk-toggleable__label-arrow\">RandomForestClassifier</label><div class=\"sk-toggleable__content\"><pre>RandomForestClassifier(random_state=1000)</pre></div></div></div></div></div>"
      ],
      "text/plain": [
       "RandomForestClassifier(random_state=1000)"
      ]
     },
     "execution_count": 39,
     "metadata": {},
     "output_type": "execute_result"
    }
   ],
   "source": [
    "# rfc_model = RandomForestClassifier(\n",
    "#     n_estimators=150,\n",
    "#     max_depth=80,\n",
    "#     min_samples_split=15,\n",
    "#     min_samples_leaf=5,\n",
    "#     bootstrap=True,\n",
    "#     random_state=1000\n",
    "# )\n",
    "rfc_model = RandomForestClassifier(n_estimators=100, bootstrap=True, random_state=1000)\n",
    "rfc_model.fit(X_train_resampled, y_train_resampled)"
   ]
  },
  {
   "cell_type": "code",
   "execution_count": 40,
   "metadata": {},
   "outputs": [
    {
     "data": {
      "text/plain": [
       "array([0, 1, 0, ..., 0, 0, 0], dtype=int64)"
      ]
     },
     "execution_count": 40,
     "metadata": {},
     "output_type": "execute_result"
    }
   ],
   "source": [
    "rfc_y_preds = rfc_model.predict(X_test)\n",
    "rfc_y_preds"
   ]
  },
  {
   "cell_type": "code",
   "execution_count": 41,
   "metadata": {},
   "outputs": [
    {
     "data": {
      "text/plain": [
       "array([[0.52, 0.48],\n",
       "       [0.46, 0.54],\n",
       "       [0.98, 0.02],\n",
       "       ...,\n",
       "       [0.93, 0.07],\n",
       "       [0.94, 0.06],\n",
       "       [0.94, 0.06]])"
      ]
     },
     "execution_count": 41,
     "metadata": {},
     "output_type": "execute_result"
    }
   ],
   "source": [
    "rfc_y_proba_preds = rfc_model.predict_proba(X_test)\n",
    "rfc_y_proba_preds"
   ]
  },
  {
   "cell_type": "code",
   "execution_count": null,
   "metadata": {},
   "outputs": [],
   "source": [
    "# Đọc data của bảng results đã lưu lên lại\n",
    "results_df = pd.read_parquet(\"tmp/data_result.parquet\")\n",
    "results_df"
   ]
  },
  {
   "cell_type": "code",
   "execution_count": 42,
   "metadata": {},
   "outputs": [
    {
     "data": {
      "text/html": [
       "<div>\n",
       "<style scoped>\n",
       "    .dataframe tbody tr th:only-of-type {\n",
       "        vertical-align: middle;\n",
       "    }\n",
       "\n",
       "    .dataframe tbody tr th {\n",
       "        vertical-align: top;\n",
       "    }\n",
       "\n",
       "    .dataframe thead th {\n",
       "        text-align: right;\n",
       "    }\n",
       "</style>\n",
       "<table border=\"1\" class=\"dataframe\">\n",
       "  <thead>\n",
       "    <tr style=\"text-align: right;\">\n",
       "      <th></th>\n",
       "      <th>loan_status</th>\n",
       "      <th>lr_pred</th>\n",
       "      <th>lr_pred_proba</th>\n",
       "      <th>rfc_pred</th>\n",
       "      <th>rfc_pred_proba</th>\n",
       "    </tr>\n",
       "  </thead>\n",
       "  <tbody>\n",
       "    <tr>\n",
       "      <th>0</th>\n",
       "      <td>0</td>\n",
       "      <td>1</td>\n",
       "      <td>0.747969</td>\n",
       "      <td>0</td>\n",
       "      <td>0.48</td>\n",
       "    </tr>\n",
       "    <tr>\n",
       "      <th>1</th>\n",
       "      <td>1</td>\n",
       "      <td>0</td>\n",
       "      <td>0.460614</td>\n",
       "      <td>1</td>\n",
       "      <td>0.54</td>\n",
       "    </tr>\n",
       "    <tr>\n",
       "      <th>2</th>\n",
       "      <td>1</td>\n",
       "      <td>0</td>\n",
       "      <td>0.403772</td>\n",
       "      <td>0</td>\n",
       "      <td>0.02</td>\n",
       "    </tr>\n",
       "    <tr>\n",
       "      <th>3</th>\n",
       "      <td>0</td>\n",
       "      <td>1</td>\n",
       "      <td>0.556681</td>\n",
       "      <td>0</td>\n",
       "      <td>0.18</td>\n",
       "    </tr>\n",
       "    <tr>\n",
       "      <th>4</th>\n",
       "      <td>0</td>\n",
       "      <td>0</td>\n",
       "      <td>0.332546</td>\n",
       "      <td>0</td>\n",
       "      <td>0.15</td>\n",
       "    </tr>\n",
       "    <tr>\n",
       "      <th>...</th>\n",
       "      <td>...</td>\n",
       "      <td>...</td>\n",
       "      <td>...</td>\n",
       "      <td>...</td>\n",
       "      <td>...</td>\n",
       "    </tr>\n",
       "    <tr>\n",
       "      <th>815582</th>\n",
       "      <td>0</td>\n",
       "      <td>1</td>\n",
       "      <td>0.577449</td>\n",
       "      <td>0</td>\n",
       "      <td>0.37</td>\n",
       "    </tr>\n",
       "    <tr>\n",
       "      <th>815583</th>\n",
       "      <td>0</td>\n",
       "      <td>1</td>\n",
       "      <td>0.502695</td>\n",
       "      <td>0</td>\n",
       "      <td>0.04</td>\n",
       "    </tr>\n",
       "    <tr>\n",
       "      <th>815584</th>\n",
       "      <td>0</td>\n",
       "      <td>0</td>\n",
       "      <td>0.423550</td>\n",
       "      <td>0</td>\n",
       "      <td>0.07</td>\n",
       "    </tr>\n",
       "    <tr>\n",
       "      <th>815585</th>\n",
       "      <td>0</td>\n",
       "      <td>0</td>\n",
       "      <td>0.353629</td>\n",
       "      <td>0</td>\n",
       "      <td>0.06</td>\n",
       "    </tr>\n",
       "    <tr>\n",
       "      <th>815586</th>\n",
       "      <td>0</td>\n",
       "      <td>0</td>\n",
       "      <td>0.403236</td>\n",
       "      <td>0</td>\n",
       "      <td>0.06</td>\n",
       "    </tr>\n",
       "  </tbody>\n",
       "</table>\n",
       "<p>815587 rows × 5 columns</p>\n",
       "</div>"
      ],
      "text/plain": [
       "       loan_status  lr_pred  lr_pred_proba  rfc_pred  rfc_pred_proba\n",
       "0                0        1       0.747969         0            0.48\n",
       "1                1        0       0.460614         1            0.54\n",
       "2                1        0       0.403772         0            0.02\n",
       "3                0        1       0.556681         0            0.18\n",
       "4                0        0       0.332546         0            0.15\n",
       "...            ...      ...            ...       ...             ...\n",
       "815582           0        1       0.577449         0            0.37\n",
       "815583           0        1       0.502695         0            0.04\n",
       "815584           0        0       0.423550         0            0.07\n",
       "815585           0        0       0.353629         0            0.06\n",
       "815586           0        0       0.403236         0            0.06\n",
       "\n",
       "[815587 rows x 5 columns]"
      ]
     },
     "execution_count": 42,
     "metadata": {},
     "output_type": "execute_result"
    }
   ],
   "source": [
    "# Ghép các cột mới vào dataframe results\n",
    "results_df = pd.concat([\n",
    "        results_df,\n",
    "        pd.DataFrame(rfc_y_preds, columns=['rfc_pred']),\n",
    "        pd.DataFrame(rfc_y_proba_preds[:,1], columns=['rfc_pred_proba'])\n",
    "    ], axis=1)\n",
    "\n",
    "results_df"
   ]
  },
  {
   "cell_type": "code",
   "execution_count": 43,
   "metadata": {},
   "outputs": [],
   "source": [
    "# Lưu dataframe vừa mới ghép các cột mới ra file lại\n",
    "results_df.to_parquet(\"tmp/data_result.parquet\")"
   ]
  },
  {
   "cell_type": "code",
   "execution_count": 44,
   "metadata": {},
   "outputs": [],
   "source": [
    "del rfc_model"
   ]
  },
  {
   "cell_type": "markdown",
   "metadata": {},
   "source": [
    "### <span style=\"color: #79E0EE\">XGBoost - eXtreme Gradient Boosting</span>"
   ]
  },
  {
   "cell_type": "code",
   "execution_count": 30,
   "metadata": {},
   "outputs": [],
   "source": [
    "import xgboost as xgb"
   ]
  },
  {
   "cell_type": "code",
   "execution_count": 31,
   "metadata": {},
   "outputs": [
    {
     "data": {
      "text/html": [
       "<style>#sk-container-id-1 {color: black;background-color: white;}#sk-container-id-1 pre{padding: 0;}#sk-container-id-1 div.sk-toggleable {background-color: white;}#sk-container-id-1 label.sk-toggleable__label {cursor: pointer;display: block;width: 100%;margin-bottom: 0;padding: 0.3em;box-sizing: border-box;text-align: center;}#sk-container-id-1 label.sk-toggleable__label-arrow:before {content: \"▸\";float: left;margin-right: 0.25em;color: #696969;}#sk-container-id-1 label.sk-toggleable__label-arrow:hover:before {color: black;}#sk-container-id-1 div.sk-estimator:hover label.sk-toggleable__label-arrow:before {color: black;}#sk-container-id-1 div.sk-toggleable__content {max-height: 0;max-width: 0;overflow: hidden;text-align: left;background-color: #f0f8ff;}#sk-container-id-1 div.sk-toggleable__content pre {margin: 0.2em;color: black;border-radius: 0.25em;background-color: #f0f8ff;}#sk-container-id-1 input.sk-toggleable__control:checked~div.sk-toggleable__content {max-height: 200px;max-width: 100%;overflow: auto;}#sk-container-id-1 input.sk-toggleable__control:checked~label.sk-toggleable__label-arrow:before {content: \"▾\";}#sk-container-id-1 div.sk-estimator input.sk-toggleable__control:checked~label.sk-toggleable__label {background-color: #d4ebff;}#sk-container-id-1 div.sk-label input.sk-toggleable__control:checked~label.sk-toggleable__label {background-color: #d4ebff;}#sk-container-id-1 input.sk-hidden--visually {border: 0;clip: rect(1px 1px 1px 1px);clip: rect(1px, 1px, 1px, 1px);height: 1px;margin: -1px;overflow: hidden;padding: 0;position: absolute;width: 1px;}#sk-container-id-1 div.sk-estimator {font-family: monospace;background-color: #f0f8ff;border: 1px dotted black;border-radius: 0.25em;box-sizing: border-box;margin-bottom: 0.5em;}#sk-container-id-1 div.sk-estimator:hover {background-color: #d4ebff;}#sk-container-id-1 div.sk-parallel-item::after {content: \"\";width: 100%;border-bottom: 1px solid gray;flex-grow: 1;}#sk-container-id-1 div.sk-label:hover label.sk-toggleable__label {background-color: #d4ebff;}#sk-container-id-1 div.sk-serial::before {content: \"\";position: absolute;border-left: 1px solid gray;box-sizing: border-box;top: 0;bottom: 0;left: 50%;z-index: 0;}#sk-container-id-1 div.sk-serial {display: flex;flex-direction: column;align-items: center;background-color: white;padding-right: 0.2em;padding-left: 0.2em;position: relative;}#sk-container-id-1 div.sk-item {position: relative;z-index: 1;}#sk-container-id-1 div.sk-parallel {display: flex;align-items: stretch;justify-content: center;background-color: white;position: relative;}#sk-container-id-1 div.sk-item::before, #sk-container-id-1 div.sk-parallel-item::before {content: \"\";position: absolute;border-left: 1px solid gray;box-sizing: border-box;top: 0;bottom: 0;left: 50%;z-index: -1;}#sk-container-id-1 div.sk-parallel-item {display: flex;flex-direction: column;z-index: 1;position: relative;background-color: white;}#sk-container-id-1 div.sk-parallel-item:first-child::after {align-self: flex-end;width: 50%;}#sk-container-id-1 div.sk-parallel-item:last-child::after {align-self: flex-start;width: 50%;}#sk-container-id-1 div.sk-parallel-item:only-child::after {width: 0;}#sk-container-id-1 div.sk-dashed-wrapped {border: 1px dashed gray;margin: 0 0.4em 0.5em 0.4em;box-sizing: border-box;padding-bottom: 0.4em;background-color: white;}#sk-container-id-1 div.sk-label label {font-family: monospace;font-weight: bold;display: inline-block;line-height: 1.2em;}#sk-container-id-1 div.sk-label-container {text-align: center;}#sk-container-id-1 div.sk-container {/* jupyter's `normalize.less` sets `[hidden] { display: none; }` but bootstrap.min.css set `[hidden] { display: none !important; }` so we also need the `!important` here to be able to override the default hidden behavior on the sphinx rendered scikit-learn.org. See: https://github.com/scikit-learn/scikit-learn/issues/21755 */display: inline-block !important;position: relative;}#sk-container-id-1 div.sk-text-repr-fallback {display: none;}</style><div id=\"sk-container-id-1\" class=\"sk-top-container\"><div class=\"sk-text-repr-fallback\"><pre>XGBClassifier(base_score=None, booster=None, callbacks=None,\n",
       "              colsample_bylevel=None, colsample_bynode=None,\n",
       "              colsample_bytree=None, early_stopping_rounds=None,\n",
       "              enable_categorical=False, eval_metric=None, feature_types=None,\n",
       "              gamma=None, gpu_id=None, grow_policy=None, importance_type=None,\n",
       "              interaction_constraints=None, learning_rate=None, max_bin=None,\n",
       "              max_cat_threshold=None, max_cat_to_onehot=None,\n",
       "              max_delta_step=None, max_depth=None, max_leaves=None,\n",
       "              min_child_weight=None, missing=nan, monotone_constraints=None,\n",
       "              n_estimators=100, n_jobs=None, num_parallel_tree=None,\n",
       "              predictor=None, random_state=None, ...)</pre><b>In a Jupyter environment, please rerun this cell to show the HTML representation or trust the notebook. <br />On GitHub, the HTML representation is unable to render, please try loading this page with nbviewer.org.</b></div><div class=\"sk-container\" hidden><div class=\"sk-item\"><div class=\"sk-estimator sk-toggleable\"><input class=\"sk-toggleable__control sk-hidden--visually\" id=\"sk-estimator-id-1\" type=\"checkbox\" checked><label for=\"sk-estimator-id-1\" class=\"sk-toggleable__label sk-toggleable__label-arrow\">XGBClassifier</label><div class=\"sk-toggleable__content\"><pre>XGBClassifier(base_score=None, booster=None, callbacks=None,\n",
       "              colsample_bylevel=None, colsample_bynode=None,\n",
       "              colsample_bytree=None, early_stopping_rounds=None,\n",
       "              enable_categorical=False, eval_metric=None, feature_types=None,\n",
       "              gamma=None, gpu_id=None, grow_policy=None, importance_type=None,\n",
       "              interaction_constraints=None, learning_rate=None, max_bin=None,\n",
       "              max_cat_threshold=None, max_cat_to_onehot=None,\n",
       "              max_delta_step=None, max_depth=None, max_leaves=None,\n",
       "              min_child_weight=None, missing=nan, monotone_constraints=None,\n",
       "              n_estimators=100, n_jobs=None, num_parallel_tree=None,\n",
       "              predictor=None, random_state=None, ...)</pre></div></div></div></div></div>"
      ],
      "text/plain": [
       "XGBClassifier(base_score=None, booster=None, callbacks=None,\n",
       "              colsample_bylevel=None, colsample_bynode=None,\n",
       "              colsample_bytree=None, early_stopping_rounds=None,\n",
       "              enable_categorical=False, eval_metric=None, feature_types=None,\n",
       "              gamma=None, gpu_id=None, grow_policy=None, importance_type=None,\n",
       "              interaction_constraints=None, learning_rate=None, max_bin=None,\n",
       "              max_cat_threshold=None, max_cat_to_onehot=None,\n",
       "              max_delta_step=None, max_depth=None, max_leaves=None,\n",
       "              min_child_weight=None, missing=nan, monotone_constraints=None,\n",
       "              n_estimators=100, n_jobs=None, num_parallel_tree=None,\n",
       "              predictor=None, random_state=None, ...)"
      ]
     },
     "execution_count": 31,
     "metadata": {},
     "output_type": "execute_result"
    }
   ],
   "source": [
    "xgb_model = xgb.XGBClassifier()\n",
    "xgb_model.fit(X_train_resampled, y_train_resampled)"
   ]
  },
  {
   "cell_type": "code",
   "execution_count": 32,
   "metadata": {},
   "outputs": [
    {
     "data": {
      "text/plain": [
       "array([0, 1, 0, ..., 0, 0, 0])"
      ]
     },
     "execution_count": 32,
     "metadata": {},
     "output_type": "execute_result"
    }
   ],
   "source": [
    "xgb_y_preds = xgb_model.predict(X_test)\n",
    "xgb_y_preds"
   ]
  },
  {
   "cell_type": "code",
   "execution_count": 33,
   "metadata": {},
   "outputs": [
    {
     "data": {
      "text/plain": [
       "array([[0.5545094 , 0.44549063],\n",
       "       [0.4238053 , 0.5761947 ],\n",
       "       [0.9696807 , 0.03031929],\n",
       "       ...,\n",
       "       [0.8910381 , 0.1089619 ],\n",
       "       [0.93928075, 0.06071925],\n",
       "       [0.91982234, 0.08017764]], dtype=float32)"
      ]
     },
     "execution_count": 33,
     "metadata": {},
     "output_type": "execute_result"
    }
   ],
   "source": [
    "xgb_y_proba_preds = xgb_model.predict_proba(X_test)\n",
    "xgb_y_proba_preds"
   ]
  },
  {
   "cell_type": "code",
   "execution_count": 34,
   "metadata": {},
   "outputs": [
    {
     "data": {
      "text/html": [
       "<div>\n",
       "<style scoped>\n",
       "    .dataframe tbody tr th:only-of-type {\n",
       "        vertical-align: middle;\n",
       "    }\n",
       "\n",
       "    .dataframe tbody tr th {\n",
       "        vertical-align: top;\n",
       "    }\n",
       "\n",
       "    .dataframe thead th {\n",
       "        text-align: right;\n",
       "    }\n",
       "</style>\n",
       "<table border=\"1\" class=\"dataframe\">\n",
       "  <thead>\n",
       "    <tr style=\"text-align: right;\">\n",
       "      <th></th>\n",
       "      <th>loan_status</th>\n",
       "      <th>lr_pred</th>\n",
       "      <th>lr_pred_proba</th>\n",
       "      <th>rfc_pred</th>\n",
       "      <th>rfc_pred_proba</th>\n",
       "    </tr>\n",
       "  </thead>\n",
       "  <tbody>\n",
       "    <tr>\n",
       "      <th>0</th>\n",
       "      <td>0</td>\n",
       "      <td>1</td>\n",
       "      <td>0.747969</td>\n",
       "      <td>0</td>\n",
       "      <td>0.48</td>\n",
       "    </tr>\n",
       "    <tr>\n",
       "      <th>1</th>\n",
       "      <td>1</td>\n",
       "      <td>0</td>\n",
       "      <td>0.460614</td>\n",
       "      <td>1</td>\n",
       "      <td>0.54</td>\n",
       "    </tr>\n",
       "    <tr>\n",
       "      <th>2</th>\n",
       "      <td>1</td>\n",
       "      <td>0</td>\n",
       "      <td>0.403772</td>\n",
       "      <td>0</td>\n",
       "      <td>0.02</td>\n",
       "    </tr>\n",
       "    <tr>\n",
       "      <th>3</th>\n",
       "      <td>0</td>\n",
       "      <td>1</td>\n",
       "      <td>0.556681</td>\n",
       "      <td>0</td>\n",
       "      <td>0.18</td>\n",
       "    </tr>\n",
       "    <tr>\n",
       "      <th>4</th>\n",
       "      <td>0</td>\n",
       "      <td>0</td>\n",
       "      <td>0.332546</td>\n",
       "      <td>0</td>\n",
       "      <td>0.15</td>\n",
       "    </tr>\n",
       "    <tr>\n",
       "      <th>...</th>\n",
       "      <td>...</td>\n",
       "      <td>...</td>\n",
       "      <td>...</td>\n",
       "      <td>...</td>\n",
       "      <td>...</td>\n",
       "    </tr>\n",
       "    <tr>\n",
       "      <th>815582</th>\n",
       "      <td>0</td>\n",
       "      <td>1</td>\n",
       "      <td>0.577449</td>\n",
       "      <td>0</td>\n",
       "      <td>0.37</td>\n",
       "    </tr>\n",
       "    <tr>\n",
       "      <th>815583</th>\n",
       "      <td>0</td>\n",
       "      <td>1</td>\n",
       "      <td>0.502695</td>\n",
       "      <td>0</td>\n",
       "      <td>0.04</td>\n",
       "    </tr>\n",
       "    <tr>\n",
       "      <th>815584</th>\n",
       "      <td>0</td>\n",
       "      <td>0</td>\n",
       "      <td>0.423550</td>\n",
       "      <td>0</td>\n",
       "      <td>0.07</td>\n",
       "    </tr>\n",
       "    <tr>\n",
       "      <th>815585</th>\n",
       "      <td>0</td>\n",
       "      <td>0</td>\n",
       "      <td>0.353629</td>\n",
       "      <td>0</td>\n",
       "      <td>0.06</td>\n",
       "    </tr>\n",
       "    <tr>\n",
       "      <th>815586</th>\n",
       "      <td>0</td>\n",
       "      <td>0</td>\n",
       "      <td>0.403236</td>\n",
       "      <td>0</td>\n",
       "      <td>0.06</td>\n",
       "    </tr>\n",
       "  </tbody>\n",
       "</table>\n",
       "<p>815587 rows × 5 columns</p>\n",
       "</div>"
      ],
      "text/plain": [
       "        loan_status  lr_pred  lr_pred_proba  rfc_pred  rfc_pred_proba\n",
       "0                 0        1       0.747969         0            0.48\n",
       "1                 1        0       0.460614         1            0.54\n",
       "2                 1        0       0.403772         0            0.02\n",
       "3                 0        1       0.556681         0            0.18\n",
       "4                 0        0       0.332546         0            0.15\n",
       "...             ...      ...            ...       ...             ...\n",
       "815582            0        1       0.577449         0            0.37\n",
       "815583            0        1       0.502695         0            0.04\n",
       "815584            0        0       0.423550         0            0.07\n",
       "815585            0        0       0.353629         0            0.06\n",
       "815586            0        0       0.403236         0            0.06\n",
       "\n",
       "[815587 rows x 5 columns]"
      ]
     },
     "execution_count": 34,
     "metadata": {},
     "output_type": "execute_result"
    }
   ],
   "source": [
    "# Đọc file data results\n",
    "results_df = pd.read_parquet(\"tmp/data_result.parquet\")\n",
    "results_df"
   ]
  },
  {
   "cell_type": "code",
   "execution_count": 35,
   "metadata": {},
   "outputs": [
    {
     "data": {
      "text/html": [
       "<div>\n",
       "<style scoped>\n",
       "    .dataframe tbody tr th:only-of-type {\n",
       "        vertical-align: middle;\n",
       "    }\n",
       "\n",
       "    .dataframe tbody tr th {\n",
       "        vertical-align: top;\n",
       "    }\n",
       "\n",
       "    .dataframe thead th {\n",
       "        text-align: right;\n",
       "    }\n",
       "</style>\n",
       "<table border=\"1\" class=\"dataframe\">\n",
       "  <thead>\n",
       "    <tr style=\"text-align: right;\">\n",
       "      <th></th>\n",
       "      <th>loan_status</th>\n",
       "      <th>lr_pred</th>\n",
       "      <th>lr_pred_proba</th>\n",
       "      <th>rfc_pred</th>\n",
       "      <th>rfc_pred_proba</th>\n",
       "      <th>xgb_pred</th>\n",
       "      <th>xgb_pred_proba</th>\n",
       "    </tr>\n",
       "  </thead>\n",
       "  <tbody>\n",
       "    <tr>\n",
       "      <th>0</th>\n",
       "      <td>0</td>\n",
       "      <td>1</td>\n",
       "      <td>0.747969</td>\n",
       "      <td>0</td>\n",
       "      <td>0.48</td>\n",
       "      <td>0</td>\n",
       "      <td>0.445491</td>\n",
       "    </tr>\n",
       "    <tr>\n",
       "      <th>1</th>\n",
       "      <td>1</td>\n",
       "      <td>0</td>\n",
       "      <td>0.460614</td>\n",
       "      <td>1</td>\n",
       "      <td>0.54</td>\n",
       "      <td>1</td>\n",
       "      <td>0.576195</td>\n",
       "    </tr>\n",
       "    <tr>\n",
       "      <th>2</th>\n",
       "      <td>1</td>\n",
       "      <td>0</td>\n",
       "      <td>0.403772</td>\n",
       "      <td>0</td>\n",
       "      <td>0.02</td>\n",
       "      <td>0</td>\n",
       "      <td>0.030319</td>\n",
       "    </tr>\n",
       "    <tr>\n",
       "      <th>3</th>\n",
       "      <td>0</td>\n",
       "      <td>1</td>\n",
       "      <td>0.556681</td>\n",
       "      <td>0</td>\n",
       "      <td>0.18</td>\n",
       "      <td>0</td>\n",
       "      <td>0.176089</td>\n",
       "    </tr>\n",
       "    <tr>\n",
       "      <th>4</th>\n",
       "      <td>0</td>\n",
       "      <td>0</td>\n",
       "      <td>0.332546</td>\n",
       "      <td>0</td>\n",
       "      <td>0.15</td>\n",
       "      <td>0</td>\n",
       "      <td>0.102333</td>\n",
       "    </tr>\n",
       "    <tr>\n",
       "      <th>...</th>\n",
       "      <td>...</td>\n",
       "      <td>...</td>\n",
       "      <td>...</td>\n",
       "      <td>...</td>\n",
       "      <td>...</td>\n",
       "      <td>...</td>\n",
       "      <td>...</td>\n",
       "    </tr>\n",
       "    <tr>\n",
       "      <th>815582</th>\n",
       "      <td>0</td>\n",
       "      <td>1</td>\n",
       "      <td>0.577449</td>\n",
       "      <td>0</td>\n",
       "      <td>0.37</td>\n",
       "      <td>0</td>\n",
       "      <td>0.232104</td>\n",
       "    </tr>\n",
       "    <tr>\n",
       "      <th>815583</th>\n",
       "      <td>0</td>\n",
       "      <td>1</td>\n",
       "      <td>0.502695</td>\n",
       "      <td>0</td>\n",
       "      <td>0.04</td>\n",
       "      <td>0</td>\n",
       "      <td>0.080450</td>\n",
       "    </tr>\n",
       "    <tr>\n",
       "      <th>815584</th>\n",
       "      <td>0</td>\n",
       "      <td>0</td>\n",
       "      <td>0.423550</td>\n",
       "      <td>0</td>\n",
       "      <td>0.07</td>\n",
       "      <td>0</td>\n",
       "      <td>0.108962</td>\n",
       "    </tr>\n",
       "    <tr>\n",
       "      <th>815585</th>\n",
       "      <td>0</td>\n",
       "      <td>0</td>\n",
       "      <td>0.353629</td>\n",
       "      <td>0</td>\n",
       "      <td>0.06</td>\n",
       "      <td>0</td>\n",
       "      <td>0.060719</td>\n",
       "    </tr>\n",
       "    <tr>\n",
       "      <th>815586</th>\n",
       "      <td>0</td>\n",
       "      <td>0</td>\n",
       "      <td>0.403236</td>\n",
       "      <td>0</td>\n",
       "      <td>0.06</td>\n",
       "      <td>0</td>\n",
       "      <td>0.080178</td>\n",
       "    </tr>\n",
       "  </tbody>\n",
       "</table>\n",
       "<p>815587 rows × 7 columns</p>\n",
       "</div>"
      ],
      "text/plain": [
       "        loan_status  lr_pred  lr_pred_proba  rfc_pred  rfc_pred_proba  \\\n",
       "0                 0        1       0.747969         0            0.48   \n",
       "1                 1        0       0.460614         1            0.54   \n",
       "2                 1        0       0.403772         0            0.02   \n",
       "3                 0        1       0.556681         0            0.18   \n",
       "4                 0        0       0.332546         0            0.15   \n",
       "...             ...      ...            ...       ...             ...   \n",
       "815582            0        1       0.577449         0            0.37   \n",
       "815583            0        1       0.502695         0            0.04   \n",
       "815584            0        0       0.423550         0            0.07   \n",
       "815585            0        0       0.353629         0            0.06   \n",
       "815586            0        0       0.403236         0            0.06   \n",
       "\n",
       "        xgb_pred  xgb_pred_proba  \n",
       "0              0        0.445491  \n",
       "1              1        0.576195  \n",
       "2              0        0.030319  \n",
       "3              0        0.176089  \n",
       "4              0        0.102333  \n",
       "...          ...             ...  \n",
       "815582         0        0.232104  \n",
       "815583         0        0.080450  \n",
       "815584         0        0.108962  \n",
       "815585         0        0.060719  \n",
       "815586         0        0.080178  \n",
       "\n",
       "[815587 rows x 7 columns]"
      ]
     },
     "execution_count": 35,
     "metadata": {},
     "output_type": "execute_result"
    }
   ],
   "source": [
    "# Ghép cột kết quả của xgb vào dataframe results\n",
    "results_df = pd.concat([\n",
    "        results_df,\n",
    "        pd.DataFrame(xgb_y_preds, columns=['xgb_pred']),\n",
    "        pd.DataFrame(xgb_y_proba_preds[:,1], columns=['xgb_pred_proba'])\n",
    "    ], axis=1)\n",
    "results_df"
   ]
  },
  {
   "cell_type": "code",
   "execution_count": 36,
   "metadata": {},
   "outputs": [],
   "source": [
    "# Cuối cùng, lưu lại\n",
    "results_df.to_parquet(\"tmp/data_result.parquet\")"
   ]
  },
  {
   "cell_type": "markdown",
   "metadata": {
    "tags": []
   },
   "source": [
    "## <span style=\"color: #79E0EE\">Đánh giá các model</span>"
   ]
  },
  {
   "cell_type": "code",
   "execution_count": 59,
   "metadata": {},
   "outputs": [
    {
     "data": {
      "text/html": [
       "<div>\n",
       "<style scoped>\n",
       "    .dataframe tbody tr th:only-of-type {\n",
       "        vertical-align: middle;\n",
       "    }\n",
       "\n",
       "    .dataframe tbody tr th {\n",
       "        vertical-align: top;\n",
       "    }\n",
       "\n",
       "    .dataframe thead th {\n",
       "        text-align: right;\n",
       "    }\n",
       "</style>\n",
       "<table border=\"1\" class=\"dataframe\">\n",
       "  <thead>\n",
       "    <tr style=\"text-align: right;\">\n",
       "      <th></th>\n",
       "      <th>loan_status</th>\n",
       "      <th>lr_pred</th>\n",
       "      <th>lr_pred_proba</th>\n",
       "      <th>rfc_pred</th>\n",
       "      <th>rfc_pred_proba</th>\n",
       "      <th>xgb_pred</th>\n",
       "      <th>xgb_pred_proba</th>\n",
       "    </tr>\n",
       "  </thead>\n",
       "  <tbody>\n",
       "    <tr>\n",
       "      <th>0</th>\n",
       "      <td>0</td>\n",
       "      <td>1</td>\n",
       "      <td>0.747969</td>\n",
       "      <td>0</td>\n",
       "      <td>0.48</td>\n",
       "      <td>0</td>\n",
       "      <td>0.445491</td>\n",
       "    </tr>\n",
       "    <tr>\n",
       "      <th>1</th>\n",
       "      <td>1</td>\n",
       "      <td>0</td>\n",
       "      <td>0.460614</td>\n",
       "      <td>1</td>\n",
       "      <td>0.54</td>\n",
       "      <td>1</td>\n",
       "      <td>0.576195</td>\n",
       "    </tr>\n",
       "    <tr>\n",
       "      <th>2</th>\n",
       "      <td>1</td>\n",
       "      <td>0</td>\n",
       "      <td>0.403772</td>\n",
       "      <td>0</td>\n",
       "      <td>0.02</td>\n",
       "      <td>0</td>\n",
       "      <td>0.030319</td>\n",
       "    </tr>\n",
       "    <tr>\n",
       "      <th>3</th>\n",
       "      <td>0</td>\n",
       "      <td>1</td>\n",
       "      <td>0.556681</td>\n",
       "      <td>0</td>\n",
       "      <td>0.18</td>\n",
       "      <td>0</td>\n",
       "      <td>0.176089</td>\n",
       "    </tr>\n",
       "    <tr>\n",
       "      <th>4</th>\n",
       "      <td>0</td>\n",
       "      <td>0</td>\n",
       "      <td>0.332546</td>\n",
       "      <td>0</td>\n",
       "      <td>0.15</td>\n",
       "      <td>0</td>\n",
       "      <td>0.102333</td>\n",
       "    </tr>\n",
       "    <tr>\n",
       "      <th>...</th>\n",
       "      <td>...</td>\n",
       "      <td>...</td>\n",
       "      <td>...</td>\n",
       "      <td>...</td>\n",
       "      <td>...</td>\n",
       "      <td>...</td>\n",
       "      <td>...</td>\n",
       "    </tr>\n",
       "    <tr>\n",
       "      <th>815582</th>\n",
       "      <td>0</td>\n",
       "      <td>1</td>\n",
       "      <td>0.577449</td>\n",
       "      <td>0</td>\n",
       "      <td>0.37</td>\n",
       "      <td>0</td>\n",
       "      <td>0.232104</td>\n",
       "    </tr>\n",
       "    <tr>\n",
       "      <th>815583</th>\n",
       "      <td>0</td>\n",
       "      <td>1</td>\n",
       "      <td>0.502695</td>\n",
       "      <td>0</td>\n",
       "      <td>0.04</td>\n",
       "      <td>0</td>\n",
       "      <td>0.080450</td>\n",
       "    </tr>\n",
       "    <tr>\n",
       "      <th>815584</th>\n",
       "      <td>0</td>\n",
       "      <td>0</td>\n",
       "      <td>0.423550</td>\n",
       "      <td>0</td>\n",
       "      <td>0.07</td>\n",
       "      <td>0</td>\n",
       "      <td>0.108962</td>\n",
       "    </tr>\n",
       "    <tr>\n",
       "      <th>815585</th>\n",
       "      <td>0</td>\n",
       "      <td>0</td>\n",
       "      <td>0.353629</td>\n",
       "      <td>0</td>\n",
       "      <td>0.06</td>\n",
       "      <td>0</td>\n",
       "      <td>0.060719</td>\n",
       "    </tr>\n",
       "    <tr>\n",
       "      <th>815586</th>\n",
       "      <td>0</td>\n",
       "      <td>0</td>\n",
       "      <td>0.403236</td>\n",
       "      <td>0</td>\n",
       "      <td>0.06</td>\n",
       "      <td>0</td>\n",
       "      <td>0.080178</td>\n",
       "    </tr>\n",
       "  </tbody>\n",
       "</table>\n",
       "<p>815587 rows × 7 columns</p>\n",
       "</div>"
      ],
      "text/plain": [
       "        loan_status  lr_pred  lr_pred_proba  rfc_pred  rfc_pred_proba  \\\n",
       "0                 0        1       0.747969         0            0.48   \n",
       "1                 1        0       0.460614         1            0.54   \n",
       "2                 1        0       0.403772         0            0.02   \n",
       "3                 0        1       0.556681         0            0.18   \n",
       "4                 0        0       0.332546         0            0.15   \n",
       "...             ...      ...            ...       ...             ...   \n",
       "815582            0        1       0.577449         0            0.37   \n",
       "815583            0        1       0.502695         0            0.04   \n",
       "815584            0        0       0.423550         0            0.07   \n",
       "815585            0        0       0.353629         0            0.06   \n",
       "815586            0        0       0.403236         0            0.06   \n",
       "\n",
       "        xgb_pred  xgb_pred_proba  \n",
       "0              0        0.445491  \n",
       "1              1        0.576195  \n",
       "2              0        0.030319  \n",
       "3              0        0.176089  \n",
       "4              0        0.102333  \n",
       "...          ...             ...  \n",
       "815582         0        0.232104  \n",
       "815583         0        0.080450  \n",
       "815584         0        0.108962  \n",
       "815585         0        0.060719  \n",
       "815586         0        0.080178  \n",
       "\n",
       "[815587 rows x 7 columns]"
      ]
     },
     "execution_count": 59,
     "metadata": {},
     "output_type": "execute_result"
    }
   ],
   "source": [
    "# Đọc lên lại dataframe results\n",
    "results_df = pd.read_parquet(\"tmp/data_result.parquet\")\n",
    "results_df"
   ]
  },
  {
   "attachments": {
    "95186830-f621-404f-a38b-d84c6ccbe942.png": {
     "image/png": "[encoded data removed]"
    }
   },
   "cell_type": "markdown",
   "metadata": {},
   "source": [
    "### <span style=\"color: #79E0EE\">Confusion Matrix</span>\n",
    "\n",
    "![image.png](attachment:95186830-f621-404f-a38b-d84c6ccbe942.png)\n",
    "\n",
    "- Chỉ số Accuracy chỉ dùng để đánh giá khi dữ liệu không bị bất đối xứng. Accuracy càng cao càng tốt.\n",
    "- Ngược lại, khi dữ liệu có tình trạng bất đối xứng thì dùng các chỉ số: Precision, Recall và F1 để đánh giá\n",
    "\n",
    "---\n",
    "- Precision: là tỉ lệ(%) số trường hợp Positive mô hình dự đoán đúng trên tổng số trường hợp mô hình dự đoán là Positive.\n",
    "- Recall: là tỉ lệ(%) số trường hợp Positive mô hình dự đoán đúng trên tổng số trường hợp thật sự là Positive.\n",
    "- F1 score: Là số dung hòa (Harmonic mean) giữa Recall và Precision giúp ta có căn cứ để lựa chọn model. F1 càng cao càng tốt.\n",
    "---\n",
    "Tham khảo: https://caihuuthuc.wordpress.com/2020/02/23/precision-recall-va-f1-score-la-gi/"
   ]
  },
  {
   "cell_type": "code",
   "execution_count": 66,
   "metadata": {},
   "outputs": [
    {
     "name": "stdout",
     "output_type": "stream",
     "text": [
      "[[397193 311400]\n",
      " [ 35819  71175]]\n"
     ]
    }
   ],
   "source": [
    "print(confusion_matrix(results_df['loan_status'], results_df['lr_pred']))"
   ]
  },
  {
   "cell_type": "code",
   "execution_count": 67,
   "metadata": {},
   "outputs": [
    {
     "name": "stdout",
     "output_type": "stream",
     "text": [
      "              precision    recall  f1-score   support\n",
      "\n",
      " Non-Default       0.92      0.56      0.70    708593\n",
      "     Default       0.19      0.67      0.29    106994\n",
      "\n",
      "    accuracy                           0.57    815587\n",
      "   macro avg       0.55      0.61      0.49    815587\n",
      "weighted avg       0.82      0.57      0.64    815587\n",
      "\n"
     ]
    }
   ],
   "source": [
    "print(classification_report(results_df['loan_status'], results_df['lr_pred'], target_names=['Non-Default', 'Default']))"
   ]
  },
  {
   "cell_type": "markdown",
   "metadata": {
    "tags": []
   },
   "source": [
    "#### <span style=\"color: #79E0EE\">Define my custom classification report function</span>"
   ]
  },
  {
   "cell_type": "code",
   "execution_count": 64,
   "metadata": {
    "jupyter": {
     "source_hidden": true
    },
    "tags": []
   },
   "outputs": [],
   "source": [
    "def my_classification_report(y_test, y_proba_preds, labels={0:'Non-Default', 1:'Default'}, threshold=0.5):\n",
    "    \n",
    "    y_preds = np.where(y_proba_preds >= threshold, 1, 0)\n",
    "    \n",
    "    report_df = pd.DataFrame()\n",
    "    for i in labels:\n",
    "        precision = precision_score(y_test, y_preds, pos_label=i)\n",
    "        recall = recall_score(y_test, y_preds, pos_label=i)\n",
    "        f1 = f1_score(y_test, y_preds, pos_label=i)\n",
    "        \n",
    "        tmp_df = pd.DataFrame([f\"{precision:.2f}\", f\"{recall:.2f}\", f\"{f1:.2f}\"], columns=[labels[i]])\n",
    "        report_df = pd.concat([report_df, tmp_df], axis=1)\n",
    "    \n",
    "    report_df = report_df.rename(index={0:'Precision', 1:'Recall', 2:'F1_score'})\n",
    "    \n",
    "    accuracy = accuracy_score(y_test, y_preds)\n",
    "    \n",
    "    cfm = confusion_matrix(y_test, y_preds)\n",
    "    cfm_labled = pd.DataFrame(\n",
    "            cfm,\n",
    "            index=['Actual : Negative (0)','Actual : Positive (1)'],\n",
    "            columns=['Predict : Negative (0)','Predict :Positive (1)']\n",
    "    )\n",
    "    \n",
    "    # print(\"-=-=-=-=-=-=-=-=-=-=-=-=-=-=-=-=-=-=-=-\")\n",
    "    print(report_df)\n",
    "    print('---------')\n",
    "    print(f\"Accuracy = {accuracy:.2f}\")\n",
    "    # print(\"-=-=-=-=-=-=-=-=-=-=-=-=-=-=-=-=-=-=-=-\")\n",
    "    \n",
    "    return cfm_labled"
   ]
  },
  {
   "cell_type": "code",
   "execution_count": 65,
   "metadata": {},
   "outputs": [
    {
     "name": "stdout",
     "output_type": "stream",
     "text": [
      "          Non-Default Default\n",
      "Precision        0.92    0.19\n",
      "Recall           0.56    0.67\n",
      "F1_score         0.70    0.29\n",
      "---------\n",
      "Accuracy = 0.57\n"
     ]
    },
    {
     "data": {
      "text/html": [
       "<div>\n",
       "<style scoped>\n",
       "    .dataframe tbody tr th:only-of-type {\n",
       "        vertical-align: middle;\n",
       "    }\n",
       "\n",
       "    .dataframe tbody tr th {\n",
       "        vertical-align: top;\n",
       "    }\n",
       "\n",
       "    .dataframe thead th {\n",
       "        text-align: right;\n",
       "    }\n",
       "</style>\n",
       "<table border=\"1\" class=\"dataframe\">\n",
       "  <thead>\n",
       "    <tr style=\"text-align: right;\">\n",
       "      <th></th>\n",
       "      <th>Predict : Negative (0)</th>\n",
       "      <th>Predict :Positive (1)</th>\n",
       "    </tr>\n",
       "  </thead>\n",
       "  <tbody>\n",
       "    <tr>\n",
       "      <th>Actual : Negative (0)</th>\n",
       "      <td>397193</td>\n",
       "      <td>311400</td>\n",
       "    </tr>\n",
       "    <tr>\n",
       "      <th>Actual : Positive (1)</th>\n",
       "      <td>35819</td>\n",
       "      <td>71175</td>\n",
       "    </tr>\n",
       "  </tbody>\n",
       "</table>\n",
       "</div>"
      ],
      "text/plain": [
       "                       Predict : Negative (0)  Predict :Positive (1)\n",
       "Actual : Negative (0)                  397193                 311400\n",
       "Actual : Positive (1)                   35819                  71175"
      ]
     },
     "execution_count": 65,
     "metadata": {},
     "output_type": "execute_result"
    }
   ],
   "source": [
    "my_classification_report(results_df['loan_status'], results_df['lr_pred_proba']) # default threshold=0.5"
   ]
  },
  {
   "cell_type": "code",
   "execution_count": 69,
   "metadata": {},
   "outputs": [
    {
     "name": "stdout",
     "output_type": "stream",
     "text": [
      "          Non-Default Default\n",
      "Precision        0.88    0.28\n",
      "Recall           0.95    0.14\n",
      "F1_score         0.91    0.18\n",
      "---------\n",
      "Accuracy = 0.84\n"
     ]
    },
    {
     "data": {
      "text/html": [
       "<div>\n",
       "<style scoped>\n",
       "    .dataframe tbody tr th:only-of-type {\n",
       "        vertical-align: middle;\n",
       "    }\n",
       "\n",
       "    .dataframe tbody tr th {\n",
       "        vertical-align: top;\n",
       "    }\n",
       "\n",
       "    .dataframe thead th {\n",
       "        text-align: right;\n",
       "    }\n",
       "</style>\n",
       "<table border=\"1\" class=\"dataframe\">\n",
       "  <thead>\n",
       "    <tr style=\"text-align: right;\">\n",
       "      <th></th>\n",
       "      <th>Predict : Negative (0)</th>\n",
       "      <th>Predict :Positive (1)</th>\n",
       "    </tr>\n",
       "  </thead>\n",
       "  <tbody>\n",
       "    <tr>\n",
       "      <th>Actual : Negative (0)</th>\n",
       "      <td>669681</td>\n",
       "      <td>38912</td>\n",
       "    </tr>\n",
       "    <tr>\n",
       "      <th>Actual : Positive (1)</th>\n",
       "      <td>92128</td>\n",
       "      <td>14866</td>\n",
       "    </tr>\n",
       "  </tbody>\n",
       "</table>\n",
       "</div>"
      ],
      "text/plain": [
       "                       Predict : Negative (0)  Predict :Positive (1)\n",
       "Actual : Negative (0)                  669681                  38912\n",
       "Actual : Positive (1)                   92128                  14866"
      ]
     },
     "execution_count": 69,
     "metadata": {},
     "output_type": "execute_result"
    }
   ],
   "source": [
    "my_classification_report(results_df['loan_status'], results_df['lr_pred_proba'], threshold=0.7)"
   ]
  },
  {
   "cell_type": "code",
   "execution_count": 70,
   "metadata": {
    "tags": []
   },
   "outputs": [
    {
     "name": "stdout",
     "output_type": "stream",
     "text": [
      "          Non-Default Default\n",
      "Precision        0.87    0.31\n",
      "Recall           0.98    0.06\n",
      "F1_score         0.92    0.10\n",
      "---------\n",
      "Accuracy = 0.86\n"
     ]
    },
    {
     "data": {
      "text/html": [
       "<div>\n",
       "<style scoped>\n",
       "    .dataframe tbody tr th:only-of-type {\n",
       "        vertical-align: middle;\n",
       "    }\n",
       "\n",
       "    .dataframe tbody tr th {\n",
       "        vertical-align: top;\n",
       "    }\n",
       "\n",
       "    .dataframe thead th {\n",
       "        text-align: right;\n",
       "    }\n",
       "</style>\n",
       "<table border=\"1\" class=\"dataframe\">\n",
       "  <thead>\n",
       "    <tr style=\"text-align: right;\">\n",
       "      <th></th>\n",
       "      <th>Predict : Negative (0)</th>\n",
       "      <th>Predict :Positive (1)</th>\n",
       "    </tr>\n",
       "  </thead>\n",
       "  <tbody>\n",
       "    <tr>\n",
       "      <th>Actual : Negative (0)</th>\n",
       "      <td>695378</td>\n",
       "      <td>13215</td>\n",
       "    </tr>\n",
       "    <tr>\n",
       "      <th>Actual : Positive (1)</th>\n",
       "      <td>100979</td>\n",
       "      <td>6015</td>\n",
       "    </tr>\n",
       "  </tbody>\n",
       "</table>\n",
       "</div>"
      ],
      "text/plain": [
       "                       Predict : Negative (0)  Predict :Positive (1)\n",
       "Actual : Negative (0)                  695378                  13215\n",
       "Actual : Positive (1)                  100979                   6015"
      ]
     },
     "execution_count": 70,
     "metadata": {},
     "output_type": "execute_result"
    }
   ],
   "source": [
    "my_classification_report(results_df['loan_status'], results_df['rfc_pred_proba'])"
   ]
  },
  {
   "cell_type": "code",
   "execution_count": 71,
   "metadata": {},
   "outputs": [
    {
     "name": "stdout",
     "output_type": "stream",
     "text": [
      "          Non-Default Default\n",
      "Precision        0.87    0.34\n",
      "Recall           1.00    0.00\n",
      "F1_score         0.93    0.01\n",
      "---------\n",
      "Accuracy = 0.87\n"
     ]
    },
    {
     "data": {
      "text/html": [
       "<div>\n",
       "<style scoped>\n",
       "    .dataframe tbody tr th:only-of-type {\n",
       "        vertical-align: middle;\n",
       "    }\n",
       "\n",
       "    .dataframe tbody tr th {\n",
       "        vertical-align: top;\n",
       "    }\n",
       "\n",
       "    .dataframe thead th {\n",
       "        text-align: right;\n",
       "    }\n",
       "</style>\n",
       "<table border=\"1\" class=\"dataframe\">\n",
       "  <thead>\n",
       "    <tr style=\"text-align: right;\">\n",
       "      <th></th>\n",
       "      <th>Predict : Negative (0)</th>\n",
       "      <th>Predict :Positive (1)</th>\n",
       "    </tr>\n",
       "  </thead>\n",
       "  <tbody>\n",
       "    <tr>\n",
       "      <th>Actual : Negative (0)</th>\n",
       "      <td>707841</td>\n",
       "      <td>752</td>\n",
       "    </tr>\n",
       "    <tr>\n",
       "      <th>Actual : Positive (1)</th>\n",
       "      <td>106609</td>\n",
       "      <td>385</td>\n",
       "    </tr>\n",
       "  </tbody>\n",
       "</table>\n",
       "</div>"
      ],
      "text/plain": [
       "                       Predict : Negative (0)  Predict :Positive (1)\n",
       "Actual : Negative (0)                  707841                    752\n",
       "Actual : Positive (1)                  106609                    385"
      ]
     },
     "execution_count": 71,
     "metadata": {},
     "output_type": "execute_result"
    }
   ],
   "source": [
    "my_classification_report(results_df['loan_status'], results_df['rfc_pred_proba'], threshold=0.7)"
   ]
  },
  {
   "cell_type": "code",
   "execution_count": 72,
   "metadata": {},
   "outputs": [
    {
     "name": "stdout",
     "output_type": "stream",
     "text": [
      "          Non-Default Default\n",
      "Precision        0.87    0.37\n",
      "Recall           0.99    0.05\n",
      "F1_score         0.93    0.09\n",
      "---------\n",
      "Accuracy = 0.86\n"
     ]
    },
    {
     "data": {
      "text/html": [
       "<div>\n",
       "<style scoped>\n",
       "    .dataframe tbody tr th:only-of-type {\n",
       "        vertical-align: middle;\n",
       "    }\n",
       "\n",
       "    .dataframe tbody tr th {\n",
       "        vertical-align: top;\n",
       "    }\n",
       "\n",
       "    .dataframe thead th {\n",
       "        text-align: right;\n",
       "    }\n",
       "</style>\n",
       "<table border=\"1\" class=\"dataframe\">\n",
       "  <thead>\n",
       "    <tr style=\"text-align: right;\">\n",
       "      <th></th>\n",
       "      <th>Predict : Negative (0)</th>\n",
       "      <th>Predict :Positive (1)</th>\n",
       "    </tr>\n",
       "  </thead>\n",
       "  <tbody>\n",
       "    <tr>\n",
       "      <th>Actual : Negative (0)</th>\n",
       "      <td>699527</td>\n",
       "      <td>9066</td>\n",
       "    </tr>\n",
       "    <tr>\n",
       "      <th>Actual : Positive (1)</th>\n",
       "      <td>101687</td>\n",
       "      <td>5307</td>\n",
       "    </tr>\n",
       "  </tbody>\n",
       "</table>\n",
       "</div>"
      ],
      "text/plain": [
       "                       Predict : Negative (0)  Predict :Positive (1)\n",
       "Actual : Negative (0)                  699527                   9066\n",
       "Actual : Positive (1)                  101687                   5307"
      ]
     },
     "execution_count": 72,
     "metadata": {},
     "output_type": "execute_result"
    }
   ],
   "source": [
    "my_classification_report(results_df['loan_status'], results_df['xgb_pred_proba'])"
   ]
  },
  {
   "cell_type": "code",
   "execution_count": 73,
   "metadata": {},
   "outputs": [
    {
     "name": "stdout",
     "output_type": "stream",
     "text": [
      "          Non-Default Default\n",
      "Precision        0.87    0.50\n",
      "Recall           1.00    0.00\n",
      "F1_score         0.93    0.00\n",
      "---------\n",
      "Accuracy = 0.87\n"
     ]
    },
    {
     "data": {
      "text/html": [
       "<div>\n",
       "<style scoped>\n",
       "    .dataframe tbody tr th:only-of-type {\n",
       "        vertical-align: middle;\n",
       "    }\n",
       "\n",
       "    .dataframe tbody tr th {\n",
       "        vertical-align: top;\n",
       "    }\n",
       "\n",
       "    .dataframe thead th {\n",
       "        text-align: right;\n",
       "    }\n",
       "</style>\n",
       "<table border=\"1\" class=\"dataframe\">\n",
       "  <thead>\n",
       "    <tr style=\"text-align: right;\">\n",
       "      <th></th>\n",
       "      <th>Predict : Negative (0)</th>\n",
       "      <th>Predict :Positive (1)</th>\n",
       "    </tr>\n",
       "  </thead>\n",
       "  <tbody>\n",
       "    <tr>\n",
       "      <th>Actual : Negative (0)</th>\n",
       "      <td>708499</td>\n",
       "      <td>94</td>\n",
       "    </tr>\n",
       "    <tr>\n",
       "      <th>Actual : Positive (1)</th>\n",
       "      <td>106901</td>\n",
       "      <td>93</td>\n",
       "    </tr>\n",
       "  </tbody>\n",
       "</table>\n",
       "</div>"
      ],
      "text/plain": [
       "                       Predict : Negative (0)  Predict :Positive (1)\n",
       "Actual : Negative (0)                  708499                     94\n",
       "Actual : Positive (1)                  106901                     93"
      ]
     },
     "execution_count": 73,
     "metadata": {},
     "output_type": "execute_result"
    }
   ],
   "source": [
    "my_classification_report(results_df['loan_status'], results_df['xgb_pred_proba'], threshold=0.7)"
   ]
  },
  {
   "attachments": {
    "cfc19ae8-3163-445c-8a2e-fbe5c4ed3f6c.png": {
     "image/png": "[encoded data removed]"
    }
   },
   "cell_type": "markdown",
   "metadata": {},
   "source": [
    "### <span style=\"color: #79E0EE\">ROC - Receiver Operating Characteristic</span>\n",
    "\n",
    "![image.png](attachment:cfc19ae8-3163-445c-8a2e-fbe5c4ed3f6c.png)\n",
    "\n",
    "Tham khảo: https://sefiks.com/2020/12/10/a-gentle-introduction-to-roc-curve-and-auc/"
   ]
  },
  {
   "cell_type": "markdown",
   "metadata": {
    "tags": []
   },
   "source": [
    "#### <span style=\"color: #79E0EE\">Define my custom plot ROC curve function</span>"
   ]
  },
  {
   "cell_type": "code",
   "execution_count": 69,
   "metadata": {
    "tags": []
   },
   "outputs": [],
   "source": [
    "def plot_roc_curve(y_test, data=None, col_names={}, colors={}):\n",
    "    plt.figure(figsize=(12,10))\n",
    "    \n",
    "    # No skill prediction\n",
    "    ns_proba = np.ones(len(y_test)) * 0.5\n",
    "    ns_fpr, ns_sensitivity, ns_thresholds = roc_curve(y_test, ns_proba)\n",
    "    ns_auc = roc_auc_score(y_test, ns_proba)\n",
    "    plt.plot(ns_fpr, ns_sensitivity, linestyle='-.', color=\"steelblue\", label=\"No Skill\")\n",
    "    # plt.plot([0, 1], [0, 1], linestyle='-.', label=\"No Skill\")\n",
    "    \n",
    "    plt.text(0.9, 0.1, f\"AUC = {ns_auc:.3f}\", ha='right', fontsize=16, weight='bold', color='steelblue')\n",
    "    plt.fill_between(ns_fpr, ns_sensitivity, facecolor='LightSteelBlue', alpha=0.6)\n",
    "    \n",
    "    \n",
    "    # Model prediction\n",
    "    y_auc = 0.2\n",
    "    for col in col_names:\n",
    "        y_proba = data[col]\n",
    "        fpr, sensitivity, thresholds = roc_curve(y_test, y_proba)\n",
    "        model_auc = roc_auc_score(y_test, y_proba)\n",
    "        plt.plot(fpr, sensitivity, color=colors[col], label=col_names[col])\n",
    "        plt.text(0.9, y_auc, f\"AUC = {model_auc:.3f}\", ha='right', fontsize=16, weight='bold', color=colors[col])\n",
    "        plt.fill_between(fpr, sensitivity, facecolor='#FFD580', alpha=0.4)\n",
    "        y_auc += 0.1\n",
    "            \n",
    "    plt.title(f\"ROC Chart\")\n",
    "    plt.xlabel(\"False Positive Rate\")\n",
    "    plt.ylabel(\"Sensitivity\")\n",
    "    plt.legend(fontsize=14)\n",
    "    plt.show()"
   ]
  },
  {
   "cell_type": "code",
   "execution_count": 71,
   "metadata": {
    "tags": []
   },
   "outputs": [
    {
     "data": {
      "image/png": "[encoded data removed]",
      "text/plain": [
       "<Figure size 864x720 with 1 Axes>"
      ]
     },
     "metadata": {
      "needs_background": "light"
     },
     "output_type": "display_data"
    }
   ],
   "source": [
    "# AUC = Area Under the ROC Curve\n",
    "dict_names = {\n",
    "    'lr_pred_proba': 'Logistic Regression',\n",
    "    'rfc_pred_proba': 'Random Forest Classifier',\n",
    "    'xgb_pred_proba': 'XGBoost Classifier'\n",
    "}\n",
    "colors = {\n",
    "    'lr_pred_proba': '#FF8C00',\n",
    "    'rfc_pred_proba': '#9400D3',\n",
    "    'xgb_pred_proba': '#2E8B57'\n",
    "}\n",
    "\n",
    "plot_roc_curve(results_df['loan_status'], data=results_df, col_names=dict_names, colors=colors)"
   ]
  },
  {
   "cell_type": "markdown",
   "metadata": {
    "tags": []
   },
   "source": [
    "## <span style=\"color: #79E0EE\">Portfolio Expected Loss (trên tập dữ liệu Test)</span>"
   ]
  },
  {
   "cell_type": "code",
   "execution_count": 60,
   "metadata": {},
   "outputs": [
    {
     "data": {
      "text/html": [
       "<div>\n",
       "<style scoped>\n",
       "    .dataframe tbody tr th:only-of-type {\n",
       "        vertical-align: middle;\n",
       "    }\n",
       "\n",
       "    .dataframe tbody tr th {\n",
       "        vertical-align: top;\n",
       "    }\n",
       "\n",
       "    .dataframe thead th {\n",
       "        text-align: right;\n",
       "    }\n",
       "</style>\n",
       "<table border=\"1\" class=\"dataframe\">\n",
       "  <thead>\n",
       "    <tr style=\"text-align: right;\">\n",
       "      <th></th>\n",
       "      <th>loan_status</th>\n",
       "      <th>lr_pred</th>\n",
       "      <th>lr_pred_proba</th>\n",
       "      <th>rfc_pred</th>\n",
       "      <th>rfc_pred_proba</th>\n",
       "      <th>xgb_pred</th>\n",
       "      <th>xgb_pred_proba</th>\n",
       "      <th>loan_amnt</th>\n",
       "      <th>lgd</th>\n",
       "    </tr>\n",
       "  </thead>\n",
       "  <tbody>\n",
       "    <tr>\n",
       "      <th>0</th>\n",
       "      <td>0</td>\n",
       "      <td>1</td>\n",
       "      <td>0.747969</td>\n",
       "      <td>0</td>\n",
       "      <td>0.48</td>\n",
       "      <td>0</td>\n",
       "      <td>0.445491</td>\n",
       "      <td>18000.0</td>\n",
       "      <td>1</td>\n",
       "    </tr>\n",
       "    <tr>\n",
       "      <th>1</th>\n",
       "      <td>1</td>\n",
       "      <td>0</td>\n",
       "      <td>0.460614</td>\n",
       "      <td>1</td>\n",
       "      <td>0.54</td>\n",
       "      <td>1</td>\n",
       "      <td>0.576195</td>\n",
       "      <td>7200.0</td>\n",
       "      <td>1</td>\n",
       "    </tr>\n",
       "    <tr>\n",
       "      <th>2</th>\n",
       "      <td>1</td>\n",
       "      <td>0</td>\n",
       "      <td>0.403772</td>\n",
       "      <td>0</td>\n",
       "      <td>0.02</td>\n",
       "      <td>0</td>\n",
       "      <td>0.030319</td>\n",
       "      <td>20000.0</td>\n",
       "      <td>1</td>\n",
       "    </tr>\n",
       "    <tr>\n",
       "      <th>3</th>\n",
       "      <td>0</td>\n",
       "      <td>1</td>\n",
       "      <td>0.556681</td>\n",
       "      <td>0</td>\n",
       "      <td>0.18</td>\n",
       "      <td>0</td>\n",
       "      <td>0.176089</td>\n",
       "      <td>30000.0</td>\n",
       "      <td>1</td>\n",
       "    </tr>\n",
       "    <tr>\n",
       "      <th>4</th>\n",
       "      <td>0</td>\n",
       "      <td>0</td>\n",
       "      <td>0.332546</td>\n",
       "      <td>0</td>\n",
       "      <td>0.15</td>\n",
       "      <td>0</td>\n",
       "      <td>0.102333</td>\n",
       "      <td>12025.0</td>\n",
       "      <td>1</td>\n",
       "    </tr>\n",
       "    <tr>\n",
       "      <th>...</th>\n",
       "      <td>...</td>\n",
       "      <td>...</td>\n",
       "      <td>...</td>\n",
       "      <td>...</td>\n",
       "      <td>...</td>\n",
       "      <td>...</td>\n",
       "      <td>...</td>\n",
       "      <td>...</td>\n",
       "      <td>...</td>\n",
       "    </tr>\n",
       "    <tr>\n",
       "      <th>815582</th>\n",
       "      <td>0</td>\n",
       "      <td>1</td>\n",
       "      <td>0.577449</td>\n",
       "      <td>0</td>\n",
       "      <td>0.37</td>\n",
       "      <td>0</td>\n",
       "      <td>0.232104</td>\n",
       "      <td>35000.0</td>\n",
       "      <td>1</td>\n",
       "    </tr>\n",
       "    <tr>\n",
       "      <th>815583</th>\n",
       "      <td>0</td>\n",
       "      <td>1</td>\n",
       "      <td>0.502695</td>\n",
       "      <td>0</td>\n",
       "      <td>0.04</td>\n",
       "      <td>0</td>\n",
       "      <td>0.080450</td>\n",
       "      <td>20000.0</td>\n",
       "      <td>1</td>\n",
       "    </tr>\n",
       "    <tr>\n",
       "      <th>815584</th>\n",
       "      <td>0</td>\n",
       "      <td>0</td>\n",
       "      <td>0.423550</td>\n",
       "      <td>0</td>\n",
       "      <td>0.07</td>\n",
       "      <td>0</td>\n",
       "      <td>0.108962</td>\n",
       "      <td>25000.0</td>\n",
       "      <td>1</td>\n",
       "    </tr>\n",
       "    <tr>\n",
       "      <th>815585</th>\n",
       "      <td>0</td>\n",
       "      <td>0</td>\n",
       "      <td>0.353629</td>\n",
       "      <td>0</td>\n",
       "      <td>0.06</td>\n",
       "      <td>0</td>\n",
       "      <td>0.060719</td>\n",
       "      <td>4000.0</td>\n",
       "      <td>1</td>\n",
       "    </tr>\n",
       "    <tr>\n",
       "      <th>815586</th>\n",
       "      <td>0</td>\n",
       "      <td>0</td>\n",
       "      <td>0.403236</td>\n",
       "      <td>0</td>\n",
       "      <td>0.06</td>\n",
       "      <td>0</td>\n",
       "      <td>0.080178</td>\n",
       "      <td>20000.0</td>\n",
       "      <td>1</td>\n",
       "    </tr>\n",
       "  </tbody>\n",
       "</table>\n",
       "<p>815587 rows × 9 columns</p>\n",
       "</div>"
      ],
      "text/plain": [
       "        loan_status  lr_pred  lr_pred_proba  rfc_pred  rfc_pred_proba  \\\n",
       "0                 0        1       0.747969         0            0.48   \n",
       "1                 1        0       0.460614         1            0.54   \n",
       "2                 1        0       0.403772         0            0.02   \n",
       "3                 0        1       0.556681         0            0.18   \n",
       "4                 0        0       0.332546         0            0.15   \n",
       "...             ...      ...            ...       ...             ...   \n",
       "815582            0        1       0.577449         0            0.37   \n",
       "815583            0        1       0.502695         0            0.04   \n",
       "815584            0        0       0.423550         0            0.07   \n",
       "815585            0        0       0.353629         0            0.06   \n",
       "815586            0        0       0.403236         0            0.06   \n",
       "\n",
       "        xgb_pred  xgb_pred_proba  loan_amnt  lgd  \n",
       "0              0        0.445491    18000.0    1  \n",
       "1              1        0.576195     7200.0    1  \n",
       "2              0        0.030319    20000.0    1  \n",
       "3              0        0.176089    30000.0    1  \n",
       "4              0        0.102333    12025.0    1  \n",
       "...          ...             ...        ...  ...  \n",
       "815582         0        0.232104    35000.0    1  \n",
       "815583         0        0.080450    20000.0    1  \n",
       "815584         0        0.108962    25000.0    1  \n",
       "815585         0        0.060719     4000.0    1  \n",
       "815586         0        0.080178    20000.0    1  \n",
       "\n",
       "[815587 rows x 9 columns]"
      ]
     },
     "execution_count": 60,
     "metadata": {},
     "output_type": "execute_result"
    }
   ],
   "source": [
    "#Thêm cột loan_amnt và cột lgd\n",
    "results_df['loan_amnt'] = X_test['loan_amnt'].copy().reset_index(drop=True)\n",
    "results_df['lgd'] = 1\n",
    "results_df"
   ]
  },
  {
   "cell_type": "markdown",
   "metadata": {},
   "source": [
    "$$\n",
    "  EL = PD \\times LGD \\times Loan\\_Amount\n",
    "$$"
   ]
  },
  {
   "cell_type": "code",
   "execution_count": 88,
   "metadata": {},
   "outputs": [
    {
     "data": {
      "text/html": [
       "<div>\n",
       "<style scoped>\n",
       "    .dataframe tbody tr th:only-of-type {\n",
       "        vertical-align: middle;\n",
       "    }\n",
       "\n",
       "    .dataframe tbody tr th {\n",
       "        vertical-align: top;\n",
       "    }\n",
       "\n",
       "    .dataframe thead th {\n",
       "        text-align: right;\n",
       "    }\n",
       "</style>\n",
       "<table border=\"1\" class=\"dataframe\">\n",
       "  <thead>\n",
       "    <tr style=\"text-align: right;\">\n",
       "      <th></th>\n",
       "      <th>loan_status</th>\n",
       "      <th>lr_pred</th>\n",
       "      <th>lr_pred_proba</th>\n",
       "      <th>rfc_pred</th>\n",
       "      <th>rfc_pred_proba</th>\n",
       "      <th>xgb_pred</th>\n",
       "      <th>xgb_pred_proba</th>\n",
       "      <th>loan_amnt</th>\n",
       "      <th>lgd</th>\n",
       "      <th>lr_expected_lost</th>\n",
       "      <th>rfc_expected_lost</th>\n",
       "      <th>xgb_expected_lost</th>\n",
       "    </tr>\n",
       "  </thead>\n",
       "  <tbody>\n",
       "    <tr>\n",
       "      <th>0</th>\n",
       "      <td>0</td>\n",
       "      <td>1</td>\n",
       "      <td>0.747969</td>\n",
       "      <td>0</td>\n",
       "      <td>0.48</td>\n",
       "      <td>0</td>\n",
       "      <td>0.445491</td>\n",
       "      <td>18000.0</td>\n",
       "      <td>1</td>\n",
       "      <td>13463.450976</td>\n",
       "      <td>8640.00</td>\n",
       "      <td>8018.831313</td>\n",
       "    </tr>\n",
       "    <tr>\n",
       "      <th>1</th>\n",
       "      <td>1</td>\n",
       "      <td>0</td>\n",
       "      <td>0.460614</td>\n",
       "      <td>1</td>\n",
       "      <td>0.54</td>\n",
       "      <td>1</td>\n",
       "      <td>0.576195</td>\n",
       "      <td>7200.0</td>\n",
       "      <td>1</td>\n",
       "      <td>3316.418386</td>\n",
       "      <td>3888.00</td>\n",
       "      <td>4148.601866</td>\n",
       "    </tr>\n",
       "    <tr>\n",
       "      <th>2</th>\n",
       "      <td>1</td>\n",
       "      <td>0</td>\n",
       "      <td>0.403772</td>\n",
       "      <td>0</td>\n",
       "      <td>0.02</td>\n",
       "      <td>0</td>\n",
       "      <td>0.030319</td>\n",
       "      <td>20000.0</td>\n",
       "      <td>1</td>\n",
       "      <td>8075.439545</td>\n",
       "      <td>400.00</td>\n",
       "      <td>606.385730</td>\n",
       "    </tr>\n",
       "    <tr>\n",
       "      <th>3</th>\n",
       "      <td>0</td>\n",
       "      <td>1</td>\n",
       "      <td>0.556681</td>\n",
       "      <td>0</td>\n",
       "      <td>0.18</td>\n",
       "      <td>0</td>\n",
       "      <td>0.176089</td>\n",
       "      <td>30000.0</td>\n",
       "      <td>1</td>\n",
       "      <td>16700.431638</td>\n",
       "      <td>5400.00</td>\n",
       "      <td>5282.683522</td>\n",
       "    </tr>\n",
       "    <tr>\n",
       "      <th>4</th>\n",
       "      <td>0</td>\n",
       "      <td>0</td>\n",
       "      <td>0.332546</td>\n",
       "      <td>0</td>\n",
       "      <td>0.15</td>\n",
       "      <td>0</td>\n",
       "      <td>0.102333</td>\n",
       "      <td>12025.0</td>\n",
       "      <td>1</td>\n",
       "      <td>3998.861089</td>\n",
       "      <td>1803.75</td>\n",
       "      <td>1230.552196</td>\n",
       "    </tr>\n",
       "    <tr>\n",
       "      <th>...</th>\n",
       "      <td>...</td>\n",
       "      <td>...</td>\n",
       "      <td>...</td>\n",
       "      <td>...</td>\n",
       "      <td>...</td>\n",
       "      <td>...</td>\n",
       "      <td>...</td>\n",
       "      <td>...</td>\n",
       "      <td>...</td>\n",
       "      <td>...</td>\n",
       "      <td>...</td>\n",
       "      <td>...</td>\n",
       "    </tr>\n",
       "    <tr>\n",
       "      <th>815582</th>\n",
       "      <td>0</td>\n",
       "      <td>1</td>\n",
       "      <td>0.577449</td>\n",
       "      <td>0</td>\n",
       "      <td>0.37</td>\n",
       "      <td>0</td>\n",
       "      <td>0.232104</td>\n",
       "      <td>35000.0</td>\n",
       "      <td>1</td>\n",
       "      <td>20210.724172</td>\n",
       "      <td>12950.00</td>\n",
       "      <td>8123.627603</td>\n",
       "    </tr>\n",
       "    <tr>\n",
       "      <th>815583</th>\n",
       "      <td>0</td>\n",
       "      <td>1</td>\n",
       "      <td>0.502695</td>\n",
       "      <td>0</td>\n",
       "      <td>0.04</td>\n",
       "      <td>0</td>\n",
       "      <td>0.080450</td>\n",
       "      <td>20000.0</td>\n",
       "      <td>1</td>\n",
       "      <td>10053.899005</td>\n",
       "      <td>800.00</td>\n",
       "      <td>1608.994752</td>\n",
       "    </tr>\n",
       "    <tr>\n",
       "      <th>815584</th>\n",
       "      <td>0</td>\n",
       "      <td>0</td>\n",
       "      <td>0.423550</td>\n",
       "      <td>0</td>\n",
       "      <td>0.07</td>\n",
       "      <td>0</td>\n",
       "      <td>0.108962</td>\n",
       "      <td>25000.0</td>\n",
       "      <td>1</td>\n",
       "      <td>10588.761191</td>\n",
       "      <td>1750.00</td>\n",
       "      <td>2724.047564</td>\n",
       "    </tr>\n",
       "    <tr>\n",
       "      <th>815585</th>\n",
       "      <td>0</td>\n",
       "      <td>0</td>\n",
       "      <td>0.353629</td>\n",
       "      <td>0</td>\n",
       "      <td>0.06</td>\n",
       "      <td>0</td>\n",
       "      <td>0.060719</td>\n",
       "      <td>4000.0</td>\n",
       "      <td>1</td>\n",
       "      <td>1414.514785</td>\n",
       "      <td>240.00</td>\n",
       "      <td>242.876992</td>\n",
       "    </tr>\n",
       "    <tr>\n",
       "      <th>815586</th>\n",
       "      <td>0</td>\n",
       "      <td>0</td>\n",
       "      <td>0.403236</td>\n",
       "      <td>0</td>\n",
       "      <td>0.06</td>\n",
       "      <td>0</td>\n",
       "      <td>0.080178</td>\n",
       "      <td>20000.0</td>\n",
       "      <td>1</td>\n",
       "      <td>8064.718858</td>\n",
       "      <td>1200.00</td>\n",
       "      <td>1603.552848</td>\n",
       "    </tr>\n",
       "  </tbody>\n",
       "</table>\n",
       "<p>815587 rows × 12 columns</p>\n",
       "</div>"
      ],
      "text/plain": [
       "       loan_status  lr_pred  lr_pred_proba  rfc_pred  rfc_pred_proba  \\\n",
       "0                0        1       0.747969         0            0.48   \n",
       "1                1        0       0.460614         1            0.54   \n",
       "2                1        0       0.403772         0            0.02   \n",
       "3                0        1       0.556681         0            0.18   \n",
       "4                0        0       0.332546         0            0.15   \n",
       "...            ...      ...            ...       ...             ...   \n",
       "815582           0        1       0.577449         0            0.37   \n",
       "815583           0        1       0.502695         0            0.04   \n",
       "815584           0        0       0.423550         0            0.07   \n",
       "815585           0        0       0.353629         0            0.06   \n",
       "815586           0        0       0.403236         0            0.06   \n",
       "\n",
       "        xgb_pred  xgb_pred_proba  loan_amnt  lgd  lr_expected_lost  \\\n",
       "0              0        0.445491    18000.0    1      13463.450976   \n",
       "1              1        0.576195     7200.0    1       3316.418386   \n",
       "2              0        0.030319    20000.0    1       8075.439545   \n",
       "3              0        0.176089    30000.0    1      16700.431638   \n",
       "4              0        0.102333    12025.0    1       3998.861089   \n",
       "...          ...             ...        ...  ...               ...   \n",
       "815582         0        0.232104    35000.0    1      20210.724172   \n",
       "815583         0        0.080450    20000.0    1      10053.899005   \n",
       "815584         0        0.108962    25000.0    1      10588.761191   \n",
       "815585         0        0.060719     4000.0    1       1414.514785   \n",
       "815586         0        0.080178    20000.0    1       8064.718858   \n",
       "\n",
       "        rfc_expected_lost  xgb_expected_lost  \n",
       "0                 8640.00        8018.831313  \n",
       "1                 3888.00        4148.601866  \n",
       "2                  400.00         606.385730  \n",
       "3                 5400.00        5282.683522  \n",
       "4                 1803.75        1230.552196  \n",
       "...                   ...                ...  \n",
       "815582           12950.00        8123.627603  \n",
       "815583             800.00        1608.994752  \n",
       "815584            1750.00        2724.047564  \n",
       "815585             240.00         242.876992  \n",
       "815586            1200.00        1603.552848  \n",
       "\n",
       "[815587 rows x 12 columns]"
      ]
     },
     "execution_count": 88,
     "metadata": {},
     "output_type": "execute_result"
    }
   ],
   "source": [
    "# tính Expected Loss trên từng kết quả xác suất của từng model\n",
    "results_df['lr_expected_lost'] = results_df['lr_pred_proba'] * results_df['lgd'] * results_df['loan_amnt']\n",
    "results_df['rfc_expected_lost'] = results_df['rfc_pred_proba'] * results_df['lgd'] * results_df['loan_amnt']\n",
    "results_df['xgb_expected_lost'] = results_df['xgb_pred_proba'] * results_df['lgd'] * results_df['loan_amnt']\n",
    "results_df"
   ]
  },
  {
   "cell_type": "code",
   "execution_count": 93,
   "metadata": {},
   "outputs": [
    {
     "name": "stdout",
     "output_type": "stream",
     "text": [
      "Portfolio Amount: $12,695,462,200.00\n",
      "Logistic Regression Expected Loss: $6,110,484,530.33\n",
      "Random Forest Classifier Expected Loss: $2,271,068,996.75\n",
      "XGB Classifier Expected Loss: $2,274,233,549.43\n"
     ]
    }
   ],
   "source": [
    "# Ước tính tổng tổn thất trên từng model\n",
    "sum_loan_amount = results_df['loan_amnt'].sum()\n",
    "sum_lr_expected_lost = results_df['lr_expected_lost'].sum()\n",
    "sum_rfc_expected_lost = results_df['rfc_expected_lost'].sum()\n",
    "sum_xgb_expected_lost = results_df['xgb_expected_lost'].sum()\n",
    "\n",
    "print(f\"Portfolio Amount: ${sum_loan_amount:,.2f}\")\n",
    "print(f\"Logistic Regression Expected Loss: ${sum_lr_expected_lost:,.2f}\")\n",
    "print(f\"Random Forest Classifier Expected Loss: ${sum_rfc_expected_lost:,.2f}\")\n",
    "print(f\"XGB Classifier Expected Loss: ${sum_xgb_expected_lost:,.2f}\")"
   ]
  }
 ],
 "metadata": {
  "kernelspec": {
   "display_name": "Python 3 (ipykernel)",
   "language": "python",
   "name": "python3"
  },
  "language_info": {
   "codemirror_mode": {
    "name": "ipython",
    "version": 3
   },
   "file_extension": ".py",
   "mimetype": "text/x-python",
   "name": "python",
   "nbconvert_exporter": "python",
   "pygments_lexer": "ipython3",
   "version": "3.9.13"
  }
 },
 "nbformat": 4,
 "nbformat_minor": 4
}
